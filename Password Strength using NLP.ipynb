{
 "cells": [
  {
   "cell_type": "code",
   "execution_count": null,
   "id": "58fe34ae",
   "metadata": {},
   "outputs": [],
   "source": []
  },
  {
   "cell_type": "code",
   "execution_count": null,
   "id": "dd24934c",
   "metadata": {},
   "outputs": [],
   "source": []
  },
  {
   "cell_type": "code",
   "execution_count": null,
   "id": "ada75360",
   "metadata": {},
   "outputs": [],
   "source": []
  },
  {
   "cell_type": "markdown",
   "id": "96ee2e5c",
   "metadata": {},
   "source": [
    "### Password - 1000k unique values for password collected online\n",
    "\n",
    "    Strength - three values(0 , 1 , 2) i.e. 0 for weak, 1 for medium, 2 for strong..\n",
    "    Strength of the password based on rules(such as containing digits, special symbols , etc.)\n",
    "\n",
    "    The passwords used in the analysis are from 000webhost leak that is available online\n",
    "\n"
   ]
  },
  {
   "cell_type": "markdown",
   "id": "786aafce",
   "metadata": {},
   "source": [
    "# read data from SQL Database "
   ]
  },
  {
   "cell_type": "code",
   "execution_count": 3,
   "id": "59435962",
   "metadata": {},
   "outputs": [
    {
     "name": "stderr",
     "output_type": "stream",
     "text": [
      "C:\\Users\\alkaa\\anaconda3\\lib\\site-packages\\scipy\\__init__.py:155: UserWarning: A NumPy version >=1.18.5 and <1.25.0 is required for this version of SciPy (detected version 1.26.2\n",
      "  warnings.warn(f\"A NumPy version >={np_minversion} and <{np_maxversion}\"\n"
     ]
    }
   ],
   "source": [
    "## importing all necessary libraries ..\n",
    "\n",
    "import pandas as pd\n",
    "import numpy as np\n",
    "import matplotlib.pyplot as plt\n",
    "import seaborn as sns"
   ]
  },
  {
   "cell_type": "code",
   "execution_count": 4,
   "id": "f49d2fb7",
   "metadata": {},
   "outputs": [],
   "source": [
    "import sqlite3"
   ]
  },
  {
   "cell_type": "code",
   "execution_count": 5,
   "id": "4c4ce5fa",
   "metadata": {},
   "outputs": [],
   "source": []
  },
  {
   "cell_type": "code",
   "execution_count": 6,
   "id": "ed2dbc75",
   "metadata": {},
   "outputs": [],
   "source": [
    "\n",
    "con = sqlite3.connect(r'C:\\Users\\alkaa\\Downloads\\password_data.sqlite')"
   ]
  },
  {
   "cell_type": "code",
   "execution_count": 7,
   "id": "707861a2",
   "metadata": {},
   "outputs": [],
   "source": [
    "\n",
    "data = pd.read_sql_query(\"SELECT * FROM Users\" , con)"
   ]
  },
  {
   "cell_type": "code",
   "execution_count": 8,
   "id": "24522cf9",
   "metadata": {},
   "outputs": [
    {
     "data": {
      "text/plain": [
       "(100000, 3)"
      ]
     },
     "execution_count": 8,
     "metadata": {},
     "output_type": "execute_result"
    }
   ],
   "source": [
    "data.shape"
   ]
  },
  {
   "cell_type": "code",
   "execution_count": 9,
   "id": "0d8dcd9d",
   "metadata": {},
   "outputs": [
    {
     "data": {
      "text/html": [
       "<div>\n",
       "<style scoped>\n",
       "    .dataframe tbody tr th:only-of-type {\n",
       "        vertical-align: middle;\n",
       "    }\n",
       "\n",
       "    .dataframe tbody tr th {\n",
       "        vertical-align: top;\n",
       "    }\n",
       "\n",
       "    .dataframe thead th {\n",
       "        text-align: right;\n",
       "    }\n",
       "</style>\n",
       "<table border=\"1\" class=\"dataframe\">\n",
       "  <thead>\n",
       "    <tr style=\"text-align: right;\">\n",
       "      <th></th>\n",
       "      <th>index</th>\n",
       "      <th>password</th>\n",
       "      <th>strength</th>\n",
       "    </tr>\n",
       "  </thead>\n",
       "  <tbody>\n",
       "    <tr>\n",
       "      <th>0</th>\n",
       "      <td>0</td>\n",
       "      <td>zxe870819</td>\n",
       "      <td>1</td>\n",
       "    </tr>\n",
       "    <tr>\n",
       "      <th>1</th>\n",
       "      <td>1</td>\n",
       "      <td>xw46454nr23l</td>\n",
       "      <td>1</td>\n",
       "    </tr>\n",
       "    <tr>\n",
       "      <th>2</th>\n",
       "      <td>2</td>\n",
       "      <td>soporte13</td>\n",
       "      <td>1</td>\n",
       "    </tr>\n",
       "    <tr>\n",
       "      <th>3</th>\n",
       "      <td>3</td>\n",
       "      <td>accounts6000webhost.com</td>\n",
       "      <td>2</td>\n",
       "    </tr>\n",
       "  </tbody>\n",
       "</table>\n",
       "</div>"
      ],
      "text/plain": [
       "   index                 password  strength\n",
       "0      0                zxe870819         1\n",
       "1      1             xw46454nr23l         1\n",
       "2      2                soporte13         1\n",
       "3      3  accounts6000webhost.com         2"
      ]
     },
     "execution_count": 9,
     "metadata": {},
     "output_type": "execute_result"
    }
   ],
   "source": [
    "data.head(4)"
   ]
  },
  {
   "cell_type": "code",
   "execution_count": null,
   "id": "73ee66d0",
   "metadata": {},
   "outputs": [],
   "source": []
  },
  {
   "cell_type": "code",
   "execution_count": null,
   "id": "825a1e74",
   "metadata": {},
   "outputs": [],
   "source": []
  },
  {
   "cell_type": "code",
   "execution_count": null,
   "id": "5028212d",
   "metadata": {},
   "outputs": [],
   "source": []
  },
  {
   "cell_type": "code",
   "execution_count": null,
   "id": "e6472d2a",
   "metadata": {},
   "outputs": [],
   "source": []
  },
  {
   "cell_type": "markdown",
   "id": "65aa7cd8",
   "metadata": {},
   "source": [
    "#  data cleaning "
   ]
  },
  {
   "cell_type": "code",
   "execution_count": 10,
   "id": "bfac8879",
   "metadata": {},
   "outputs": [
    {
     "data": {
      "text/plain": [
       "Index(['index', 'password', 'strength'], dtype='object')"
      ]
     },
     "execution_count": 10,
     "metadata": {},
     "output_type": "execute_result"
    }
   ],
   "source": [
    "data.columns"
   ]
  },
  {
   "cell_type": "code",
   "execution_count": null,
   "id": "cfe2c3d5",
   "metadata": {},
   "outputs": [],
   "source": []
  },
  {
   "cell_type": "markdown",
   "id": "881c4564",
   "metadata": {},
   "source": [
    "### Removing irrelevant features "
   ]
  },
  {
   "cell_type": "code",
   "execution_count": 11,
   "id": "2c63e9f1",
   "metadata": {},
   "outputs": [],
   "source": [
    "data.drop([\"index\"] , axis=1 , inplace=True)"
   ]
  },
  {
   "cell_type": "code",
   "execution_count": 12,
   "id": "de87177d",
   "metadata": {},
   "outputs": [
    {
     "data": {
      "text/html": [
       "<div>\n",
       "<style scoped>\n",
       "    .dataframe tbody tr th:only-of-type {\n",
       "        vertical-align: middle;\n",
       "    }\n",
       "\n",
       "    .dataframe tbody tr th {\n",
       "        vertical-align: top;\n",
       "    }\n",
       "\n",
       "    .dataframe thead th {\n",
       "        text-align: right;\n",
       "    }\n",
       "</style>\n",
       "<table border=\"1\" class=\"dataframe\">\n",
       "  <thead>\n",
       "    <tr style=\"text-align: right;\">\n",
       "      <th></th>\n",
       "      <th>password</th>\n",
       "      <th>strength</th>\n",
       "    </tr>\n",
       "  </thead>\n",
       "  <tbody>\n",
       "    <tr>\n",
       "      <th>0</th>\n",
       "      <td>zxe870819</td>\n",
       "      <td>1</td>\n",
       "    </tr>\n",
       "    <tr>\n",
       "      <th>1</th>\n",
       "      <td>xw46454nr23l</td>\n",
       "      <td>1</td>\n",
       "    </tr>\n",
       "    <tr>\n",
       "      <th>2</th>\n",
       "      <td>soporte13</td>\n",
       "      <td>1</td>\n",
       "    </tr>\n",
       "    <tr>\n",
       "      <th>3</th>\n",
       "      <td>accounts6000webhost.com</td>\n",
       "      <td>2</td>\n",
       "    </tr>\n",
       "  </tbody>\n",
       "</table>\n",
       "</div>"
      ],
      "text/plain": [
       "                  password  strength\n",
       "0                zxe870819         1\n",
       "1             xw46454nr23l         1\n",
       "2                soporte13         1\n",
       "3  accounts6000webhost.com         2"
      ]
     },
     "execution_count": 12,
     "metadata": {},
     "output_type": "execute_result"
    }
   ],
   "source": [
    "data.head(4)"
   ]
  },
  {
   "cell_type": "code",
   "execution_count": null,
   "id": "9308dc6e",
   "metadata": {},
   "outputs": [],
   "source": []
  },
  {
   "cell_type": "code",
   "execution_count": null,
   "id": "b1e62490",
   "metadata": {},
   "outputs": [],
   "source": []
  },
  {
   "cell_type": "markdown",
   "id": "f53cd6f1",
   "metadata": {},
   "source": [
    "### Check duplicate rows"
   ]
  },
  {
   "cell_type": "code",
   "execution_count": 13,
   "id": "df7e7548",
   "metadata": {},
   "outputs": [
    {
     "data": {
      "text/plain": [
       "0"
      ]
     },
     "execution_count": 13,
     "metadata": {},
     "output_type": "execute_result"
    }
   ],
   "source": [
    "data.duplicated().sum()"
   ]
  },
  {
   "cell_type": "code",
   "execution_count": null,
   "id": "cbec40cd",
   "metadata": {},
   "outputs": [],
   "source": []
  },
  {
   "cell_type": "markdown",
   "id": "82c1344c",
   "metadata": {},
   "source": [
    "### check missing values in columns "
   ]
  },
  {
   "cell_type": "code",
   "execution_count": 14,
   "id": "63bcaf5b",
   "metadata": {},
   "outputs": [
    {
     "data": {
      "text/plain": [
       "password    False\n",
       "strength    False\n",
       "dtype: bool"
      ]
     },
     "execution_count": 14,
     "metadata": {},
     "output_type": "execute_result"
    }
   ],
   "source": [
    "data.isnull().any()"
   ]
  },
  {
   "cell_type": "code",
   "execution_count": 15,
   "id": "01fc6273",
   "metadata": {},
   "outputs": [
    {
     "data": {
      "text/plain": [
       "0"
      ]
     },
     "execution_count": 15,
     "metadata": {},
     "output_type": "execute_result"
    }
   ],
   "source": [
    "data.isnull().any().sum() ## it means 0 feature have NAN values"
   ]
  },
  {
   "cell_type": "code",
   "execution_count": null,
   "id": "5ea88490",
   "metadata": {},
   "outputs": [],
   "source": []
  },
  {
   "cell_type": "markdown",
   "id": "491da460",
   "metadata": {},
   "source": [
    "### check data-types of every feature "
   ]
  },
  {
   "cell_type": "code",
   "execution_count": 16,
   "id": "1b2e0745",
   "metadata": {},
   "outputs": [
    {
     "data": {
      "text/plain": [
       "password    object\n",
       "strength     int64\n",
       "dtype: object"
      ]
     },
     "execution_count": 16,
     "metadata": {},
     "output_type": "execute_result"
    }
   ],
   "source": [
    "data.dtypes"
   ]
  },
  {
   "cell_type": "code",
   "execution_count": null,
   "id": "3e4931c6",
   "metadata": {},
   "outputs": [],
   "source": []
  },
  {
   "cell_type": "markdown",
   "id": "1612c1f7",
   "metadata": {},
   "source": [
    "### checking whether \"strength\" feature has irrelevant values or not "
   ]
  },
  {
   "cell_type": "code",
   "execution_count": 17,
   "id": "fb2eecad",
   "metadata": {},
   "outputs": [
    {
     "data": {
      "text/plain": [
       "0        1\n",
       "1        1\n",
       "2        1\n",
       "3        2\n",
       "4        1\n",
       "        ..\n",
       "99995    1\n",
       "99996    1\n",
       "99997    1\n",
       "99998    1\n",
       "99999    1\n",
       "Name: strength, Length: 100000, dtype: int64"
      ]
     },
     "execution_count": 17,
     "metadata": {},
     "output_type": "execute_result"
    }
   ],
   "source": [
    "data[\"strength\"]"
   ]
  },
  {
   "cell_type": "code",
   "execution_count": 18,
   "id": "17e99e4a",
   "metadata": {},
   "outputs": [
    {
     "data": {
      "text/plain": [
       "array([1, 2, 0], dtype=int64)"
      ]
     },
     "execution_count": 18,
     "metadata": {},
     "output_type": "execute_result"
    }
   ],
   "source": [
    "data[\"strength\"].unique()"
   ]
  },
  {
   "cell_type": "code",
   "execution_count": null,
   "id": "a5b16630",
   "metadata": {},
   "outputs": [],
   "source": []
  },
  {
   "cell_type": "code",
   "execution_count": null,
   "id": "bf0de507",
   "metadata": {},
   "outputs": [],
   "source": []
  },
  {
   "cell_type": "code",
   "execution_count": null,
   "id": "ba1ccae6",
   "metadata": {},
   "outputs": [],
   "source": []
  },
  {
   "cell_type": "markdown",
   "id": "805daecc",
   "metadata": {},
   "source": [
    "# Performing Semantic Analysis \n",
    "    e.g ,,      \n",
    "          \n",
    "          a) How many password textual actually holds only numeric characters ?\n",
    "          b) How many password textual actually holds only Upper-case character ? \n",
    "          \n",
    "          c) How many password textual actually holds only alphabet ?\n",
    "          d) How many password textual actually holds alpha-numeric character ? \n",
    "          e) How many password textual actually holds title-case character ? \n",
    "          \n",
    "          f) How many password textual actually holds some special special character ? \n",
    "          \n",
    "          "
   ]
  },
  {
   "cell_type": "code",
   "execution_count": 19,
   "id": "ba1c4f31",
   "metadata": {},
   "outputs": [
    {
     "data": {
      "text/plain": [
       "Index(['password', 'strength'], dtype='object')"
      ]
     },
     "execution_count": 19,
     "metadata": {},
     "output_type": "execute_result"
    }
   ],
   "source": [
    "data.columns"
   ]
  },
  {
   "cell_type": "code",
   "execution_count": 20,
   "id": "8c0c9e64",
   "metadata": {},
   "outputs": [
    {
     "data": {
      "text/plain": [
       "0                      zxe870819\n",
       "1                   xw46454nr23l\n",
       "2                      soporte13\n",
       "3        accounts6000webhost.com\n",
       "4                       c443balg\n",
       "                  ...           \n",
       "99995                 obejofi215\n",
       "99996                 fmiopvxb64\n",
       "99997                  czvrbun38\n",
       "99998                  mymyxe430\n",
       "99999                glqjhkxb467\n",
       "Name: password, Length: 100000, dtype: object"
      ]
     },
     "execution_count": 20,
     "metadata": {},
     "output_type": "execute_result"
    }
   ],
   "source": [
    "data[\"password\"]"
   ]
  },
  {
   "cell_type": "code",
   "execution_count": 21,
   "id": "8acc6ecb",
   "metadata": {},
   "outputs": [
    {
     "data": {
      "text/plain": [
       "'zxe870819'"
      ]
     },
     "execution_count": 21,
     "metadata": {},
     "output_type": "execute_result"
    }
   ],
   "source": [
    "data[\"password\"][0]"
   ]
  },
  {
   "cell_type": "code",
   "execution_count": 22,
   "id": "9e382d3f",
   "metadata": {},
   "outputs": [
    {
     "data": {
      "text/plain": [
       "str"
      ]
     },
     "execution_count": 22,
     "metadata": {},
     "output_type": "execute_result"
    }
   ],
   "source": [
    "type(data[\"password\"][0])"
   ]
  },
  {
   "cell_type": "code",
   "execution_count": null,
   "id": "47205d10",
   "metadata": {},
   "outputs": [],
   "source": []
  },
  {
   "cell_type": "markdown",
   "id": "73267222",
   "metadata": {},
   "source": [
    "### a) How many password textual actually holds only numeric characters ?"
   ]
  },
  {
   "cell_type": "code",
   "execution_count": 23,
   "id": "87a7cd87",
   "metadata": {},
   "outputs": [
    {
     "data": {
      "text/plain": [
       "0        False\n",
       "1        False\n",
       "2        False\n",
       "3        False\n",
       "4        False\n",
       "         ...  \n",
       "99995    False\n",
       "99996    False\n",
       "99997    False\n",
       "99998    False\n",
       "99999    False\n",
       "Name: password, Length: 100000, dtype: bool"
      ]
     },
     "execution_count": 23,
     "metadata": {},
     "output_type": "execute_result"
    }
   ],
   "source": [
    "data[\"password\"].str.isnumeric()"
   ]
  },
  {
   "cell_type": "code",
   "execution_count": 24,
   "id": "9960bbf2",
   "metadata": {},
   "outputs": [
    {
     "data": {
      "text/html": [
       "<div>\n",
       "<style scoped>\n",
       "    .dataframe tbody tr th:only-of-type {\n",
       "        vertical-align: middle;\n",
       "    }\n",
       "\n",
       "    .dataframe tbody tr th {\n",
       "        vertical-align: top;\n",
       "    }\n",
       "\n",
       "    .dataframe thead th {\n",
       "        text-align: right;\n",
       "    }\n",
       "</style>\n",
       "<table border=\"1\" class=\"dataframe\">\n",
       "  <thead>\n",
       "    <tr style=\"text-align: right;\">\n",
       "      <th></th>\n",
       "      <th>password</th>\n",
       "      <th>strength</th>\n",
       "    </tr>\n",
       "  </thead>\n",
       "  <tbody>\n",
       "    <tr>\n",
       "      <th>12280</th>\n",
       "      <td>943801</td>\n",
       "      <td>0</td>\n",
       "    </tr>\n",
       "    <tr>\n",
       "      <th>14992</th>\n",
       "      <td>12345</td>\n",
       "      <td>0</td>\n",
       "    </tr>\n",
       "    <tr>\n",
       "      <th>20958</th>\n",
       "      <td>147856</td>\n",
       "      <td>0</td>\n",
       "    </tr>\n",
       "    <tr>\n",
       "      <th>21671</th>\n",
       "      <td>140290</td>\n",
       "      <td>0</td>\n",
       "    </tr>\n",
       "    <tr>\n",
       "      <th>23269</th>\n",
       "      <td>123987</td>\n",
       "      <td>0</td>\n",
       "    </tr>\n",
       "    <tr>\n",
       "      <th>28569</th>\n",
       "      <td>1233214</td>\n",
       "      <td>0</td>\n",
       "    </tr>\n",
       "    <tr>\n",
       "      <th>31329</th>\n",
       "      <td>0159456</td>\n",
       "      <td>0</td>\n",
       "    </tr>\n",
       "    <tr>\n",
       "      <th>32574</th>\n",
       "      <td>363761</td>\n",
       "      <td>0</td>\n",
       "    </tr>\n",
       "    <tr>\n",
       "      <th>37855</th>\n",
       "      <td>4524344</td>\n",
       "      <td>0</td>\n",
       "    </tr>\n",
       "    <tr>\n",
       "      <th>43648</th>\n",
       "      <td>5521597</td>\n",
       "      <td>0</td>\n",
       "    </tr>\n",
       "    <tr>\n",
       "      <th>45271</th>\n",
       "      <td>626262</td>\n",
       "      <td>0</td>\n",
       "    </tr>\n",
       "    <tr>\n",
       "      <th>52266</th>\n",
       "      <td>156651</td>\n",
       "      <td>0</td>\n",
       "    </tr>\n",
       "    <tr>\n",
       "      <th>58717</th>\n",
       "      <td>369</td>\n",
       "      <td>0</td>\n",
       "    </tr>\n",
       "    <tr>\n",
       "      <th>59619</th>\n",
       "      <td>151106</td>\n",
       "      <td>0</td>\n",
       "    </tr>\n",
       "    <tr>\n",
       "      <th>67723</th>\n",
       "      <td>1234</td>\n",
       "      <td>0</td>\n",
       "    </tr>\n",
       "    <tr>\n",
       "      <th>68106</th>\n",
       "      <td>1995151</td>\n",
       "      <td>0</td>\n",
       "    </tr>\n",
       "    <tr>\n",
       "      <th>68592</th>\n",
       "      <td>112233</td>\n",
       "      <td>0</td>\n",
       "    </tr>\n",
       "    <tr>\n",
       "      <th>69255</th>\n",
       "      <td>9562489</td>\n",
       "      <td>0</td>\n",
       "    </tr>\n",
       "    <tr>\n",
       "      <th>74938</th>\n",
       "      <td>12</td>\n",
       "      <td>0</td>\n",
       "    </tr>\n",
       "    <tr>\n",
       "      <th>77298</th>\n",
       "      <td>18731</td>\n",
       "      <td>0</td>\n",
       "    </tr>\n",
       "    <tr>\n",
       "      <th>86406</th>\n",
       "      <td>1050</td>\n",
       "      <td>0</td>\n",
       "    </tr>\n",
       "    <tr>\n",
       "      <th>86608</th>\n",
       "      <td>158491</td>\n",
       "      <td>0</td>\n",
       "    </tr>\n",
       "    <tr>\n",
       "      <th>94908</th>\n",
       "      <td>060415</td>\n",
       "      <td>0</td>\n",
       "    </tr>\n",
       "    <tr>\n",
       "      <th>96459</th>\n",
       "      <td>1</td>\n",
       "      <td>0</td>\n",
       "    </tr>\n",
       "    <tr>\n",
       "      <th>98122</th>\n",
       "      <td>6975818</td>\n",
       "      <td>0</td>\n",
       "    </tr>\n",
       "    <tr>\n",
       "      <th>98248</th>\n",
       "      <td>454545</td>\n",
       "      <td>0</td>\n",
       "    </tr>\n",
       "  </tbody>\n",
       "</table>\n",
       "</div>"
      ],
      "text/plain": [
       "      password  strength\n",
       "12280   943801         0\n",
       "14992    12345         0\n",
       "20958   147856         0\n",
       "21671   140290         0\n",
       "23269   123987         0\n",
       "28569  1233214         0\n",
       "31329  0159456         0\n",
       "32574   363761         0\n",
       "37855  4524344         0\n",
       "43648  5521597         0\n",
       "45271   626262         0\n",
       "52266   156651         0\n",
       "58717      369         0\n",
       "59619   151106         0\n",
       "67723     1234         0\n",
       "68106  1995151         0\n",
       "68592   112233         0\n",
       "69255  9562489         0\n",
       "74938       12         0\n",
       "77298    18731         0\n",
       "86406     1050         0\n",
       "86608   158491         0\n",
       "94908   060415         0\n",
       "96459        1         0\n",
       "98122  6975818         0\n",
       "98248   454545         0"
      ]
     },
     "execution_count": 24,
     "metadata": {},
     "output_type": "execute_result"
    }
   ],
   "source": [
    "data[data[\"password\"].str.isnumeric()]"
   ]
  },
  {
   "cell_type": "code",
   "execution_count": 25,
   "id": "1c92d2b9",
   "metadata": {},
   "outputs": [
    {
     "data": {
      "text/plain": [
       "(26, 2)"
      ]
     },
     "execution_count": 25,
     "metadata": {},
     "output_type": "execute_result"
    }
   ],
   "source": [
    "data[data[\"password\"].str.isnumeric()].shape  "
   ]
  },
  {
   "cell_type": "code",
   "execution_count": null,
   "id": "614e6bbb",
   "metadata": {},
   "outputs": [],
   "source": []
  },
  {
   "cell_type": "markdown",
   "id": "458a927f",
   "metadata": {},
   "source": [
    "### b) How many password textual actually holds only Upper-case character ? "
   ]
  },
  {
   "cell_type": "code",
   "execution_count": 26,
   "id": "5e66f91f",
   "metadata": {},
   "outputs": [
    {
     "data": {
      "text/html": [
       "<div>\n",
       "<style scoped>\n",
       "    .dataframe tbody tr th:only-of-type {\n",
       "        vertical-align: middle;\n",
       "    }\n",
       "\n",
       "    .dataframe tbody tr th {\n",
       "        vertical-align: top;\n",
       "    }\n",
       "\n",
       "    .dataframe thead th {\n",
       "        text-align: right;\n",
       "    }\n",
       "</style>\n",
       "<table border=\"1\" class=\"dataframe\">\n",
       "  <thead>\n",
       "    <tr style=\"text-align: right;\">\n",
       "      <th></th>\n",
       "      <th>password</th>\n",
       "      <th>strength</th>\n",
       "    </tr>\n",
       "  </thead>\n",
       "  <tbody>\n",
       "    <tr>\n",
       "      <th>115</th>\n",
       "      <td>EYT63119</td>\n",
       "      <td>1</td>\n",
       "    </tr>\n",
       "    <tr>\n",
       "      <th>273</th>\n",
       "      <td>INSPIRON6</td>\n",
       "      <td>1</td>\n",
       "    </tr>\n",
       "    <tr>\n",
       "      <th>338</th>\n",
       "      <td>1A2S3D4F</td>\n",
       "      <td>1</td>\n",
       "    </tr>\n",
       "    <tr>\n",
       "      <th>367</th>\n",
       "      <td>13269123A</td>\n",
       "      <td>1</td>\n",
       "    </tr>\n",
       "    <tr>\n",
       "      <th>373</th>\n",
       "      <td>YAMAZAKI82</td>\n",
       "      <td>1</td>\n",
       "    </tr>\n",
       "    <tr>\n",
       "      <th>...</th>\n",
       "      <td>...</td>\n",
       "      <td>...</td>\n",
       "    </tr>\n",
       "    <tr>\n",
       "      <th>99590</th>\n",
       "      <td>V13000993J</td>\n",
       "      <td>1</td>\n",
       "    </tr>\n",
       "    <tr>\n",
       "      <th>99692</th>\n",
       "      <td>65925013ABC</td>\n",
       "      <td>1</td>\n",
       "    </tr>\n",
       "    <tr>\n",
       "      <th>99784</th>\n",
       "      <td>01EDD055</td>\n",
       "      <td>1</td>\n",
       "    </tr>\n",
       "    <tr>\n",
       "      <th>99893</th>\n",
       "      <td>1UPONYOU</td>\n",
       "      <td>1</td>\n",
       "    </tr>\n",
       "    <tr>\n",
       "      <th>99910</th>\n",
       "      <td>UNION1</td>\n",
       "      <td>0</td>\n",
       "    </tr>\n",
       "  </tbody>\n",
       "</table>\n",
       "<p>1506 rows × 2 columns</p>\n",
       "</div>"
      ],
      "text/plain": [
       "          password  strength\n",
       "115       EYT63119         1\n",
       "273      INSPIRON6         1\n",
       "338       1A2S3D4F         1\n",
       "367      13269123A         1\n",
       "373     YAMAZAKI82         1\n",
       "...            ...       ...\n",
       "99590   V13000993J         1\n",
       "99692  65925013ABC         1\n",
       "99784     01EDD055         1\n",
       "99893     1UPONYOU         1\n",
       "99910       UNION1         0\n",
       "\n",
       "[1506 rows x 2 columns]"
      ]
     },
     "execution_count": 26,
     "metadata": {},
     "output_type": "execute_result"
    }
   ],
   "source": [
    "data[data[\"password\"].str.isupper()]\n"
   ]
  },
  {
   "cell_type": "code",
   "execution_count": null,
   "id": "758b195d",
   "metadata": {},
   "outputs": [],
   "source": []
  },
  {
   "cell_type": "markdown",
   "id": "22955f67",
   "metadata": {},
   "source": [
    "### c) How many password textual actually holds only alphabet ? "
   ]
  },
  {
   "cell_type": "code",
   "execution_count": 27,
   "id": "642c22dd",
   "metadata": {},
   "outputs": [
    {
     "data": {
      "text/plain": [
       "(50, 2)"
      ]
     },
     "execution_count": 27,
     "metadata": {},
     "output_type": "execute_result"
    }
   ],
   "source": [
    "data[data[\"password\"].str.isalpha()].shape\n"
   ]
  },
  {
   "cell_type": "code",
   "execution_count": null,
   "id": "9ddbd025",
   "metadata": {},
   "outputs": [],
   "source": []
  },
  {
   "cell_type": "markdown",
   "id": "8f0e3247",
   "metadata": {},
   "source": [
    "### d) How many password textual actually holds alpha-numeric character ? "
   ]
  },
  {
   "cell_type": "code",
   "execution_count": 28,
   "id": "33afe76e",
   "metadata": {},
   "outputs": [
    {
     "data": {
      "text/html": [
       "<div>\n",
       "<style scoped>\n",
       "    .dataframe tbody tr th:only-of-type {\n",
       "        vertical-align: middle;\n",
       "    }\n",
       "\n",
       "    .dataframe tbody tr th {\n",
       "        vertical-align: top;\n",
       "    }\n",
       "\n",
       "    .dataframe thead th {\n",
       "        text-align: right;\n",
       "    }\n",
       "</style>\n",
       "<table border=\"1\" class=\"dataframe\">\n",
       "  <thead>\n",
       "    <tr style=\"text-align: right;\">\n",
       "      <th></th>\n",
       "      <th>password</th>\n",
       "      <th>strength</th>\n",
       "    </tr>\n",
       "  </thead>\n",
       "  <tbody>\n",
       "    <tr>\n",
       "      <th>0</th>\n",
       "      <td>zxe870819</td>\n",
       "      <td>1</td>\n",
       "    </tr>\n",
       "    <tr>\n",
       "      <th>1</th>\n",
       "      <td>xw46454nr23l</td>\n",
       "      <td>1</td>\n",
       "    </tr>\n",
       "    <tr>\n",
       "      <th>2</th>\n",
       "      <td>soporte13</td>\n",
       "      <td>1</td>\n",
       "    </tr>\n",
       "    <tr>\n",
       "      <th>4</th>\n",
       "      <td>c443balg</td>\n",
       "      <td>1</td>\n",
       "    </tr>\n",
       "    <tr>\n",
       "      <th>5</th>\n",
       "      <td>16623670p</td>\n",
       "      <td>1</td>\n",
       "    </tr>\n",
       "    <tr>\n",
       "      <th>...</th>\n",
       "      <td>...</td>\n",
       "      <td>...</td>\n",
       "    </tr>\n",
       "    <tr>\n",
       "      <th>99995</th>\n",
       "      <td>obejofi215</td>\n",
       "      <td>1</td>\n",
       "    </tr>\n",
       "    <tr>\n",
       "      <th>99996</th>\n",
       "      <td>fmiopvxb64</td>\n",
       "      <td>1</td>\n",
       "    </tr>\n",
       "    <tr>\n",
       "      <th>99997</th>\n",
       "      <td>czvrbun38</td>\n",
       "      <td>1</td>\n",
       "    </tr>\n",
       "    <tr>\n",
       "      <th>99998</th>\n",
       "      <td>mymyxe430</td>\n",
       "      <td>1</td>\n",
       "    </tr>\n",
       "    <tr>\n",
       "      <th>99999</th>\n",
       "      <td>glqjhkxb467</td>\n",
       "      <td>1</td>\n",
       "    </tr>\n",
       "  </tbody>\n",
       "</table>\n",
       "<p>97203 rows × 2 columns</p>\n",
       "</div>"
      ],
      "text/plain": [
       "           password  strength\n",
       "0         zxe870819         1\n",
       "1      xw46454nr23l         1\n",
       "2         soporte13         1\n",
       "4          c443balg         1\n",
       "5         16623670p         1\n",
       "...             ...       ...\n",
       "99995    obejofi215         1\n",
       "99996    fmiopvxb64         1\n",
       "99997     czvrbun38         1\n",
       "99998     mymyxe430         1\n",
       "99999   glqjhkxb467         1\n",
       "\n",
       "[97203 rows x 2 columns]"
      ]
     },
     "execution_count": 28,
     "metadata": {},
     "output_type": "execute_result"
    }
   ],
   "source": [
    "data[data[\"password\"].str.isalnum()]\n"
   ]
  },
  {
   "cell_type": "code",
   "execution_count": null,
   "id": "ac68a7be",
   "metadata": {},
   "outputs": [],
   "source": []
  },
  {
   "cell_type": "code",
   "execution_count": null,
   "id": "3122a2fb",
   "metadata": {},
   "outputs": [],
   "source": []
  },
  {
   "cell_type": "markdown",
   "id": "cd8d6647",
   "metadata": {},
   "source": [
    "### e) How many password textual actually holds title-case character ? "
   ]
  },
  {
   "cell_type": "code",
   "execution_count": 29,
   "id": "f1c5b2eb",
   "metadata": {},
   "outputs": [
    {
     "data": {
      "text/html": [
       "<div>\n",
       "<style scoped>\n",
       "    .dataframe tbody tr th:only-of-type {\n",
       "        vertical-align: middle;\n",
       "    }\n",
       "\n",
       "    .dataframe tbody tr th {\n",
       "        vertical-align: top;\n",
       "    }\n",
       "\n",
       "    .dataframe thead th {\n",
       "        text-align: right;\n",
       "    }\n",
       "</style>\n",
       "<table border=\"1\" class=\"dataframe\">\n",
       "  <thead>\n",
       "    <tr style=\"text-align: right;\">\n",
       "      <th></th>\n",
       "      <th>password</th>\n",
       "      <th>strength</th>\n",
       "    </tr>\n",
       "  </thead>\n",
       "  <tbody>\n",
       "    <tr>\n",
       "      <th>64</th>\n",
       "      <td>Hisanthoshjasika0</td>\n",
       "      <td>2</td>\n",
       "    </tr>\n",
       "    <tr>\n",
       "      <th>242</th>\n",
       "      <td>Therockrockbottom72</td>\n",
       "      <td>2</td>\n",
       "    </tr>\n",
       "    <tr>\n",
       "      <th>338</th>\n",
       "      <td>1A2S3D4F</td>\n",
       "      <td>1</td>\n",
       "    </tr>\n",
       "    <tr>\n",
       "      <th>367</th>\n",
       "      <td>13269123A</td>\n",
       "      <td>1</td>\n",
       "    </tr>\n",
       "    <tr>\n",
       "      <th>526</th>\n",
       "      <td>Csicskarozsika1</td>\n",
       "      <td>2</td>\n",
       "    </tr>\n",
       "    <tr>\n",
       "      <th>...</th>\n",
       "      <td>...</td>\n",
       "      <td>...</td>\n",
       "    </tr>\n",
       "    <tr>\n",
       "      <th>99168</th>\n",
       "      <td>1053815198M</td>\n",
       "      <td>1</td>\n",
       "    </tr>\n",
       "    <tr>\n",
       "      <th>99192</th>\n",
       "      <td>Alfranx05122023</td>\n",
       "      <td>2</td>\n",
       "    </tr>\n",
       "    <tr>\n",
       "      <th>99375</th>\n",
       "      <td>Kensington1956</td>\n",
       "      <td>2</td>\n",
       "    </tr>\n",
       "    <tr>\n",
       "      <th>99590</th>\n",
       "      <td>V13000993J</td>\n",
       "      <td>1</td>\n",
       "    </tr>\n",
       "    <tr>\n",
       "      <th>99654</th>\n",
       "      <td>94010Centuripe</td>\n",
       "      <td>2</td>\n",
       "    </tr>\n",
       "  </tbody>\n",
       "</table>\n",
       "<p>932 rows × 2 columns</p>\n",
       "</div>"
      ],
      "text/plain": [
       "                  password  strength\n",
       "64       Hisanthoshjasika0         2\n",
       "242    Therockrockbottom72         2\n",
       "338               1A2S3D4F         1\n",
       "367              13269123A         1\n",
       "526        Csicskarozsika1         2\n",
       "...                    ...       ...\n",
       "99168          1053815198M         1\n",
       "99192      Alfranx05122023         2\n",
       "99375       Kensington1956         2\n",
       "99590           V13000993J         1\n",
       "99654       94010Centuripe         2\n",
       "\n",
       "[932 rows x 2 columns]"
      ]
     },
     "execution_count": 29,
     "metadata": {},
     "output_type": "execute_result"
    }
   ],
   "source": [
    "data[data[\"password\"].str.istitle()]\n",
    "\n"
   ]
  },
  {
   "cell_type": "code",
   "execution_count": null,
   "id": "9dea2ed7",
   "metadata": {},
   "outputs": [],
   "source": []
  },
  {
   "cell_type": "code",
   "execution_count": null,
   "id": "e48d89bf",
   "metadata": {},
   "outputs": [],
   "source": []
  },
  {
   "cell_type": "markdown",
   "id": "3f0e29e5",
   "metadata": {},
   "source": [
    "### f) How many password textual actually holds special character ? "
   ]
  },
  {
   "cell_type": "code",
   "execution_count": 30,
   "id": "6fda2b9a",
   "metadata": {},
   "outputs": [
    {
     "data": {
      "text/plain": [
       "0                      zxe870819\n",
       "1                   xw46454nr23l\n",
       "2                      soporte13\n",
       "3        accounts6000webhost.com\n",
       "4                       c443balg\n",
       "                  ...           \n",
       "99995                 obejofi215\n",
       "99996                 fmiopvxb64\n",
       "99997                  czvrbun38\n",
       "99998                  mymyxe430\n",
       "99999                glqjhkxb467\n",
       "Name: password, Length: 100000, dtype: object"
      ]
     },
     "execution_count": 30,
     "metadata": {},
     "output_type": "execute_result"
    }
   ],
   "source": [
    "data[\"password\"]"
   ]
  },
  {
   "cell_type": "code",
   "execution_count": 31,
   "id": "8ed32f40",
   "metadata": {},
   "outputs": [],
   "source": [
    "import string"
   ]
  },
  {
   "cell_type": "code",
   "execution_count": 32,
   "id": "dc6c0bdf",
   "metadata": {},
   "outputs": [
    {
     "data": {
      "text/plain": [
       "'!\"#$%&\\'()*+,-./:;<=>?@[\\\\]^_`{|}~'"
      ]
     },
     "execution_count": 32,
     "metadata": {},
     "output_type": "execute_result"
    }
   ],
   "source": [
    "string.punctuation "
   ]
  },
  {
   "cell_type": "code",
   "execution_count": 33,
   "id": "087e389c",
   "metadata": {},
   "outputs": [],
   "source": [
    "def find_semantics(row):\n",
    "    for char in row:\n",
    "        if char in string.punctuation:\n",
    "            return 1\n",
    "        else:\n",
    "            pass"
   ]
  },
  {
   "cell_type": "code",
   "execution_count": 34,
   "id": "aa25f487",
   "metadata": {},
   "outputs": [
    {
     "data": {
      "text/plain": [
       "0        False\n",
       "1        False\n",
       "2        False\n",
       "3         True\n",
       "4        False\n",
       "         ...  \n",
       "99995    False\n",
       "99996    False\n",
       "99997    False\n",
       "99998    False\n",
       "99999    False\n",
       "Name: password, Length: 100000, dtype: bool"
      ]
     },
     "execution_count": 34,
     "metadata": {},
     "output_type": "execute_result"
    }
   ],
   "source": [
    "data[\"password\"].apply(find_semantics)==1"
   ]
  },
  {
   "cell_type": "code",
   "execution_count": 35,
   "id": "aa4ef7b4",
   "metadata": {},
   "outputs": [
    {
     "data": {
      "text/html": [
       "<div>\n",
       "<style scoped>\n",
       "    .dataframe tbody tr th:only-of-type {\n",
       "        vertical-align: middle;\n",
       "    }\n",
       "\n",
       "    .dataframe tbody tr th {\n",
       "        vertical-align: top;\n",
       "    }\n",
       "\n",
       "    .dataframe thead th {\n",
       "        text-align: right;\n",
       "    }\n",
       "</style>\n",
       "<table border=\"1\" class=\"dataframe\">\n",
       "  <thead>\n",
       "    <tr style=\"text-align: right;\">\n",
       "      <th></th>\n",
       "      <th>password</th>\n",
       "      <th>strength</th>\n",
       "    </tr>\n",
       "  </thead>\n",
       "  <tbody>\n",
       "    <tr>\n",
       "      <th>3</th>\n",
       "      <td>accounts6000webhost.com</td>\n",
       "      <td>2</td>\n",
       "    </tr>\n",
       "    <tr>\n",
       "      <th>68</th>\n",
       "      <td>12463773800+</td>\n",
       "      <td>1</td>\n",
       "    </tr>\n",
       "    <tr>\n",
       "      <th>98</th>\n",
       "      <td>p.r.c.d.g.</td>\n",
       "      <td>1</td>\n",
       "    </tr>\n",
       "    <tr>\n",
       "      <th>145</th>\n",
       "      <td>cita-cita</td>\n",
       "      <td>1</td>\n",
       "    </tr>\n",
       "    <tr>\n",
       "      <th>180</th>\n",
       "      <td>karolina.susnina0U</td>\n",
       "      <td>2</td>\n",
       "    </tr>\n",
       "    <tr>\n",
       "      <th>...</th>\n",
       "      <td>...</td>\n",
       "      <td>...</td>\n",
       "    </tr>\n",
       "    <tr>\n",
       "      <th>99748</th>\n",
       "      <td>maiselis.com</td>\n",
       "      <td>1</td>\n",
       "    </tr>\n",
       "    <tr>\n",
       "      <th>99845</th>\n",
       "      <td>hosting4meze!@#</td>\n",
       "      <td>2</td>\n",
       "    </tr>\n",
       "    <tr>\n",
       "      <th>99954</th>\n",
       "      <td>semista_bakung15</td>\n",
       "      <td>2</td>\n",
       "    </tr>\n",
       "    <tr>\n",
       "      <th>99980</th>\n",
       "      <td>halflife2010!LEB</td>\n",
       "      <td>2</td>\n",
       "    </tr>\n",
       "    <tr>\n",
       "      <th>99988</th>\n",
       "      <td>lbhtrnjh@</td>\n",
       "      <td>1</td>\n",
       "    </tr>\n",
       "  </tbody>\n",
       "</table>\n",
       "<p>2663 rows × 2 columns</p>\n",
       "</div>"
      ],
      "text/plain": [
       "                      password  strength\n",
       "3      accounts6000webhost.com         2\n",
       "68                12463773800+         1\n",
       "98                  p.r.c.d.g.         1\n",
       "145                  cita-cita         1\n",
       "180         karolina.susnina0U         2\n",
       "...                        ...       ...\n",
       "99748             maiselis.com         1\n",
       "99845          hosting4meze!@#         2\n",
       "99954         semista_bakung15         2\n",
       "99980         halflife2010!LEB         2\n",
       "99988                lbhtrnjh@         1\n",
       "\n",
       "[2663 rows x 2 columns]"
      ]
     },
     "execution_count": 35,
     "metadata": {},
     "output_type": "execute_result"
    }
   ],
   "source": [
    "data[data[\"password\"].apply(find_semantics)==1]\n"
   ]
  },
  {
   "cell_type": "code",
   "execution_count": null,
   "id": "fd492e14",
   "metadata": {},
   "outputs": [],
   "source": []
  },
  {
   "cell_type": "code",
   "execution_count": null,
   "id": "e005a081",
   "metadata": {},
   "outputs": [],
   "source": []
  },
  {
   "cell_type": "code",
   "execution_count": null,
   "id": "6fd12a0f",
   "metadata": {},
   "outputs": [],
   "source": []
  },
  {
   "cell_type": "code",
   "execution_count": null,
   "id": "4aa04f1a",
   "metadata": {},
   "outputs": [],
   "source": []
  },
  {
   "cell_type": "code",
   "execution_count": null,
   "id": "5d229857",
   "metadata": {},
   "outputs": [],
   "source": []
  },
  {
   "cell_type": "markdown",
   "id": "1f2abf30",
   "metadata": {},
   "source": [
    "##  Applying Feature Engineering "
   ]
  },
  {
   "cell_type": "markdown",
   "id": "41ba1d61",
   "metadata": {},
   "source": [
    "\n",
    "\n",
    "\n",
    " ## Passwords depend on 5 factors :\n",
    "\n",
    "       Length of password\n",
    "       Frequency of Lowercase Characters\n",
    "       Frequency of Uppercase Characters\n",
    "       Frequency of Numeric Characters\n",
    "       Frequency of Special Characters\n",
    "\n",
    "\n",
    "\n",
    "\n"
   ]
  },
  {
   "cell_type": "code",
   "execution_count": null,
   "id": "a37fc99d",
   "metadata": {},
   "outputs": [],
   "source": []
  },
  {
   "cell_type": "markdown",
   "id": "c7959cdb",
   "metadata": {},
   "source": [
    "#### length of every Password "
   ]
  },
  {
   "cell_type": "code",
   "execution_count": 37,
   "id": "7d2c050a",
   "metadata": {},
   "outputs": [
    {
     "data": {
      "text/plain": [
       "'zxe870819'"
      ]
     },
     "execution_count": 37,
     "metadata": {},
     "output_type": "execute_result"
    }
   ],
   "source": [
    "data[\"password\"][0]"
   ]
  },
  {
   "cell_type": "code",
   "execution_count": 38,
   "id": "2e8a6e8f",
   "metadata": {},
   "outputs": [
    {
     "data": {
      "text/plain": [
       "9"
      ]
     },
     "execution_count": 38,
     "metadata": {},
     "output_type": "execute_result"
    }
   ],
   "source": [
    "len(data[\"password\"][0]) "
   ]
  },
  {
   "cell_type": "code",
   "execution_count": 39,
   "id": "fb8468d6",
   "metadata": {},
   "outputs": [],
   "source": [
    "data[\"length\"] = data[\"password\"].str.len() "
   ]
  },
  {
   "cell_type": "code",
   "execution_count": null,
   "id": "b3ec2955",
   "metadata": {},
   "outputs": [],
   "source": []
  },
  {
   "cell_type": "markdown",
   "id": "881838ea",
   "metadata": {},
   "source": [
    "#### Frequency of Lowercase Characters :"
   ]
  },
  {
   "cell_type": "code",
   "execution_count": 40,
   "id": "87265305",
   "metadata": {},
   "outputs": [],
   "source": [
    "password = \"Shan99\""
   ]
  },
  {
   "cell_type": "code",
   "execution_count": 41,
   "id": "57f14ef9",
   "metadata": {},
   "outputs": [
    {
     "data": {
      "text/plain": [
       "['h', 'a', 'n']"
      ]
     },
     "execution_count": 41,
     "metadata": {},
     "output_type": "execute_result"
    }
   ],
   "source": [
    "[char for char in password if char.islower()]"
   ]
  },
  {
   "cell_type": "code",
   "execution_count": 42,
   "id": "aa559432",
   "metadata": {},
   "outputs": [
    {
     "data": {
      "text/plain": [
       "3"
      ]
     },
     "execution_count": 42,
     "metadata": {},
     "output_type": "execute_result"
    }
   ],
   "source": [
    "len([char for char in password if char.islower()])"
   ]
  },
  {
   "cell_type": "code",
   "execution_count": 43,
   "id": "641de3ff",
   "metadata": {},
   "outputs": [
    {
     "data": {
      "text/plain": [
       "0.5"
      ]
     },
     "execution_count": 43,
     "metadata": {},
     "output_type": "execute_result"
    }
   ],
   "source": [
    "len([char for char in password if char.islower()])/len(password)"
   ]
  },
  {
   "cell_type": "code",
   "execution_count": 44,
   "id": "78e7e681",
   "metadata": {},
   "outputs": [
    {
     "data": {
      "text/plain": [
       "'\\n\\nQ..->> why we are diving each value by its Total length or why we are normalizing frequency ? \\n\\nAns : Just  to get rid of some outliers bcz some passwords have huge length as we have seen , hence value of lowercase could \\nalso be high , so lets normalise it in the range between 0 to 1\\n\\n\\n'"
      ]
     },
     "execution_count": 44,
     "metadata": {},
     "output_type": "execute_result"
    }
   ],
   "source": [
    "'''\n",
    "\n",
    "Q..->> why we are diving each value by its Total length or why we are normalizing frequency ? \n",
    "\n",
    "Ans : Just  to get rid of some outliers bcz some passwords have huge length as we have seen , hence value of lowercase could \n",
    "also be high , so lets normalise it in the range between 0 to 1\n",
    "\n",
    "\n",
    "'''"
   ]
  },
  {
   "cell_type": "code",
   "execution_count": null,
   "id": "13ca5353",
   "metadata": {},
   "outputs": [],
   "source": []
  },
  {
   "cell_type": "code",
   "execution_count": null,
   "id": "8a721fc3",
   "metadata": {},
   "outputs": [],
   "source": []
  },
  {
   "cell_type": "code",
   "execution_count": 45,
   "id": "98596ec5",
   "metadata": {},
   "outputs": [],
   "source": [
    "def freq_lowercase(row):\n",
    "    return len([char for char in row if char.islower()])/len(row)"
   ]
  },
  {
   "cell_type": "code",
   "execution_count": null,
   "id": "33a30fb6",
   "metadata": {},
   "outputs": [],
   "source": []
  },
  {
   "cell_type": "markdown",
   "id": "a00c3916",
   "metadata": {},
   "source": [
    "#### Frequency of Uppercase Characters :"
   ]
  },
  {
   "cell_type": "code",
   "execution_count": 46,
   "id": "d13c4fe8",
   "metadata": {},
   "outputs": [],
   "source": [
    "def freq_uppercase(row):\n",
    "    return len([char for char in row if char.isupper()])/len(row)"
   ]
  },
  {
   "cell_type": "code",
   "execution_count": null,
   "id": "bee355b5",
   "metadata": {},
   "outputs": [],
   "source": []
  },
  {
   "cell_type": "markdown",
   "id": "ba4f3897",
   "metadata": {},
   "source": [
    "#### Frequency of Numeric Characters :"
   ]
  },
  {
   "cell_type": "code",
   "execution_count": 47,
   "id": "41b03f74",
   "metadata": {},
   "outputs": [],
   "source": [
    "def freq_numerical_case(row):\n",
    "    return len([char for char in row if char.isdigit()])/len(row)"
   ]
  },
  {
   "cell_type": "code",
   "execution_count": null,
   "id": "6fff4666",
   "metadata": {},
   "outputs": [],
   "source": []
  },
  {
   "cell_type": "code",
   "execution_count": 48,
   "id": "091434be",
   "metadata": {},
   "outputs": [],
   "source": [
    "### applying user-defined functions .."
   ]
  },
  {
   "cell_type": "code",
   "execution_count": 49,
   "id": "684e69a0",
   "metadata": {},
   "outputs": [],
   "source": [
    "data[\"lowercase_freq\"] = np.round(data[\"password\"].apply(freq_lowercase) , 3)\n",
    "\n",
    "data[\"uppercase_freq\"] = np.round(data[\"password\"].apply(freq_uppercase) , 3)\n",
    "\n",
    "data[\"digit_freq\"] = np.round(data[\"password\"].apply(freq_numerical_case) , 3)"
   ]
  },
  {
   "cell_type": "code",
   "execution_count": 50,
   "id": "1e7f54b7",
   "metadata": {},
   "outputs": [
    {
     "data": {
      "text/html": [
       "<div>\n",
       "<style scoped>\n",
       "    .dataframe tbody tr th:only-of-type {\n",
       "        vertical-align: middle;\n",
       "    }\n",
       "\n",
       "    .dataframe tbody tr th {\n",
       "        vertical-align: top;\n",
       "    }\n",
       "\n",
       "    .dataframe thead th {\n",
       "        text-align: right;\n",
       "    }\n",
       "</style>\n",
       "<table border=\"1\" class=\"dataframe\">\n",
       "  <thead>\n",
       "    <tr style=\"text-align: right;\">\n",
       "      <th></th>\n",
       "      <th>password</th>\n",
       "      <th>strength</th>\n",
       "      <th>length</th>\n",
       "      <th>lowercase_freq</th>\n",
       "      <th>uppercase_freq</th>\n",
       "      <th>digit_freq</th>\n",
       "    </tr>\n",
       "  </thead>\n",
       "  <tbody>\n",
       "    <tr>\n",
       "      <th>0</th>\n",
       "      <td>zxe870819</td>\n",
       "      <td>1</td>\n",
       "      <td>9</td>\n",
       "      <td>0.333</td>\n",
       "      <td>0.0</td>\n",
       "      <td>0.667</td>\n",
       "    </tr>\n",
       "    <tr>\n",
       "      <th>1</th>\n",
       "      <td>xw46454nr23l</td>\n",
       "      <td>1</td>\n",
       "      <td>12</td>\n",
       "      <td>0.417</td>\n",
       "      <td>0.0</td>\n",
       "      <td>0.583</td>\n",
       "    </tr>\n",
       "    <tr>\n",
       "      <th>2</th>\n",
       "      <td>soporte13</td>\n",
       "      <td>1</td>\n",
       "      <td>9</td>\n",
       "      <td>0.778</td>\n",
       "      <td>0.0</td>\n",
       "      <td>0.222</td>\n",
       "    </tr>\n",
       "  </tbody>\n",
       "</table>\n",
       "</div>"
      ],
      "text/plain": [
       "       password  strength  length  lowercase_freq  uppercase_freq  digit_freq\n",
       "0     zxe870819         1       9           0.333             0.0       0.667\n",
       "1  xw46454nr23l         1      12           0.417             0.0       0.583\n",
       "2     soporte13         1       9           0.778             0.0       0.222"
      ]
     },
     "execution_count": 50,
     "metadata": {},
     "output_type": "execute_result"
    }
   ],
   "source": [
    "data.head(3)"
   ]
  },
  {
   "cell_type": "code",
   "execution_count": null,
   "id": "b1d979e3",
   "metadata": {},
   "outputs": [],
   "source": []
  },
  {
   "cell_type": "code",
   "execution_count": null,
   "id": "c01aa59d",
   "metadata": {},
   "outputs": [],
   "source": []
  },
  {
   "cell_type": "markdown",
   "id": "eceafc41",
   "metadata": {},
   "source": [
    "#### Frequency of Special-case Characters :"
   ]
  },
  {
   "cell_type": "code",
   "execution_count": 51,
   "id": "8086fcf8",
   "metadata": {},
   "outputs": [],
   "source": [
    "def freq_special_case(row):\n",
    "    special_chars = []\n",
    "    for char in row:\n",
    "        if not char.isalpha() and not char.isdigit():\n",
    "            special_chars.append(char)\n",
    "    return len(special_chars)"
   ]
  },
  {
   "cell_type": "code",
   "execution_count": 52,
   "id": "d18d6b8e",
   "metadata": {},
   "outputs": [],
   "source": [
    "data[\"special_char_freq\"] = np.round(data[\"password\"].apply(freq_special_case) , 3) ## applying \"freq_special_case\" function"
   ]
  },
  {
   "cell_type": "code",
   "execution_count": 53,
   "id": "cd6ee47e",
   "metadata": {},
   "outputs": [
    {
     "data": {
      "text/html": [
       "<div>\n",
       "<style scoped>\n",
       "    .dataframe tbody tr th:only-of-type {\n",
       "        vertical-align: middle;\n",
       "    }\n",
       "\n",
       "    .dataframe tbody tr th {\n",
       "        vertical-align: top;\n",
       "    }\n",
       "\n",
       "    .dataframe thead th {\n",
       "        text-align: right;\n",
       "    }\n",
       "</style>\n",
       "<table border=\"1\" class=\"dataframe\">\n",
       "  <thead>\n",
       "    <tr style=\"text-align: right;\">\n",
       "      <th></th>\n",
       "      <th>password</th>\n",
       "      <th>strength</th>\n",
       "      <th>length</th>\n",
       "      <th>lowercase_freq</th>\n",
       "      <th>uppercase_freq</th>\n",
       "      <th>digit_freq</th>\n",
       "      <th>special_char_freq</th>\n",
       "    </tr>\n",
       "  </thead>\n",
       "  <tbody>\n",
       "    <tr>\n",
       "      <th>0</th>\n",
       "      <td>zxe870819</td>\n",
       "      <td>1</td>\n",
       "      <td>9</td>\n",
       "      <td>0.333</td>\n",
       "      <td>0.0</td>\n",
       "      <td>0.667</td>\n",
       "      <td>0</td>\n",
       "    </tr>\n",
       "    <tr>\n",
       "      <th>1</th>\n",
       "      <td>xw46454nr23l</td>\n",
       "      <td>1</td>\n",
       "      <td>12</td>\n",
       "      <td>0.417</td>\n",
       "      <td>0.0</td>\n",
       "      <td>0.583</td>\n",
       "      <td>0</td>\n",
       "    </tr>\n",
       "    <tr>\n",
       "      <th>2</th>\n",
       "      <td>soporte13</td>\n",
       "      <td>1</td>\n",
       "      <td>9</td>\n",
       "      <td>0.778</td>\n",
       "      <td>0.0</td>\n",
       "      <td>0.222</td>\n",
       "      <td>0</td>\n",
       "    </tr>\n",
       "    <tr>\n",
       "      <th>3</th>\n",
       "      <td>accounts6000webhost.com</td>\n",
       "      <td>2</td>\n",
       "      <td>23</td>\n",
       "      <td>0.783</td>\n",
       "      <td>0.0</td>\n",
       "      <td>0.174</td>\n",
       "      <td>1</td>\n",
       "    </tr>\n",
       "    <tr>\n",
       "      <th>4</th>\n",
       "      <td>c443balg</td>\n",
       "      <td>1</td>\n",
       "      <td>8</td>\n",
       "      <td>0.625</td>\n",
       "      <td>0.0</td>\n",
       "      <td>0.375</td>\n",
       "      <td>0</td>\n",
       "    </tr>\n",
       "  </tbody>\n",
       "</table>\n",
       "</div>"
      ],
      "text/plain": [
       "                  password  strength  length  lowercase_freq  uppercase_freq  \\\n",
       "0                zxe870819         1       9           0.333             0.0   \n",
       "1             xw46454nr23l         1      12           0.417             0.0   \n",
       "2                soporte13         1       9           0.778             0.0   \n",
       "3  accounts6000webhost.com         2      23           0.783             0.0   \n",
       "4                 c443balg         1       8           0.625             0.0   \n",
       "\n",
       "   digit_freq  special_char_freq  \n",
       "0       0.667                  0  \n",
       "1       0.583                  0  \n",
       "2       0.222                  0  \n",
       "3       0.174                  1  \n",
       "4       0.375                  0  "
      ]
     },
     "execution_count": 53,
     "metadata": {},
     "output_type": "execute_result"
    }
   ],
   "source": [
    "data.head(5)"
   ]
  },
  {
   "cell_type": "code",
   "execution_count": 54,
   "id": "27f3a6d2",
   "metadata": {},
   "outputs": [],
   "source": [
    "data[\"special_char_freq\"] = data[\"special_char_freq\"]/data[\"length\"] ## noromalising \"special_char_freq\" feature "
   ]
  },
  {
   "cell_type": "code",
   "execution_count": 55,
   "id": "f8346c8c",
   "metadata": {},
   "outputs": [
    {
     "data": {
      "text/html": [
       "<div>\n",
       "<style scoped>\n",
       "    .dataframe tbody tr th:only-of-type {\n",
       "        vertical-align: middle;\n",
       "    }\n",
       "\n",
       "    .dataframe tbody tr th {\n",
       "        vertical-align: top;\n",
       "    }\n",
       "\n",
       "    .dataframe thead th {\n",
       "        text-align: right;\n",
       "    }\n",
       "</style>\n",
       "<table border=\"1\" class=\"dataframe\">\n",
       "  <thead>\n",
       "    <tr style=\"text-align: right;\">\n",
       "      <th></th>\n",
       "      <th>password</th>\n",
       "      <th>strength</th>\n",
       "      <th>length</th>\n",
       "      <th>lowercase_freq</th>\n",
       "      <th>uppercase_freq</th>\n",
       "      <th>digit_freq</th>\n",
       "      <th>special_char_freq</th>\n",
       "    </tr>\n",
       "  </thead>\n",
       "  <tbody>\n",
       "    <tr>\n",
       "      <th>0</th>\n",
       "      <td>zxe870819</td>\n",
       "      <td>1</td>\n",
       "      <td>9</td>\n",
       "      <td>0.333</td>\n",
       "      <td>0.0</td>\n",
       "      <td>0.667</td>\n",
       "      <td>0.000000</td>\n",
       "    </tr>\n",
       "    <tr>\n",
       "      <th>1</th>\n",
       "      <td>xw46454nr23l</td>\n",
       "      <td>1</td>\n",
       "      <td>12</td>\n",
       "      <td>0.417</td>\n",
       "      <td>0.0</td>\n",
       "      <td>0.583</td>\n",
       "      <td>0.000000</td>\n",
       "    </tr>\n",
       "    <tr>\n",
       "      <th>2</th>\n",
       "      <td>soporte13</td>\n",
       "      <td>1</td>\n",
       "      <td>9</td>\n",
       "      <td>0.778</td>\n",
       "      <td>0.0</td>\n",
       "      <td>0.222</td>\n",
       "      <td>0.000000</td>\n",
       "    </tr>\n",
       "    <tr>\n",
       "      <th>3</th>\n",
       "      <td>accounts6000webhost.com</td>\n",
       "      <td>2</td>\n",
       "      <td>23</td>\n",
       "      <td>0.783</td>\n",
       "      <td>0.0</td>\n",
       "      <td>0.174</td>\n",
       "      <td>0.043478</td>\n",
       "    </tr>\n",
       "    <tr>\n",
       "      <th>4</th>\n",
       "      <td>c443balg</td>\n",
       "      <td>1</td>\n",
       "      <td>8</td>\n",
       "      <td>0.625</td>\n",
       "      <td>0.0</td>\n",
       "      <td>0.375</td>\n",
       "      <td>0.000000</td>\n",
       "    </tr>\n",
       "  </tbody>\n",
       "</table>\n",
       "</div>"
      ],
      "text/plain": [
       "                  password  strength  length  lowercase_freq  uppercase_freq  \\\n",
       "0                zxe870819         1       9           0.333             0.0   \n",
       "1             xw46454nr23l         1      12           0.417             0.0   \n",
       "2                soporte13         1       9           0.778             0.0   \n",
       "3  accounts6000webhost.com         2      23           0.783             0.0   \n",
       "4                 c443balg         1       8           0.625             0.0   \n",
       "\n",
       "   digit_freq  special_char_freq  \n",
       "0       0.667           0.000000  \n",
       "1       0.583           0.000000  \n",
       "2       0.222           0.000000  \n",
       "3       0.174           0.043478  \n",
       "4       0.375           0.000000  "
      ]
     },
     "execution_count": 55,
     "metadata": {},
     "output_type": "execute_result"
    }
   ],
   "source": [
    "data.head(5)"
   ]
  },
  {
   "cell_type": "code",
   "execution_count": null,
   "id": "af857516",
   "metadata": {},
   "outputs": [],
   "source": []
  },
  {
   "cell_type": "code",
   "execution_count": null,
   "id": "8ffbab9e",
   "metadata": {},
   "outputs": [],
   "source": []
  },
  {
   "cell_type": "code",
   "execution_count": null,
   "id": "92e3a127",
   "metadata": {},
   "outputs": [],
   "source": []
  },
  {
   "cell_type": "code",
   "execution_count": null,
   "id": "1874952a",
   "metadata": {},
   "outputs": [],
   "source": []
  },
  {
   "cell_type": "markdown",
   "id": "7449baed",
   "metadata": {},
   "source": [
    "## Performing Descriptive Statistics "
   ]
  },
  {
   "cell_type": "code",
   "execution_count": 56,
   "id": "71f188d5",
   "metadata": {},
   "outputs": [
    {
     "data": {
      "text/plain": [
       "Index(['password', 'strength', 'length', 'lowercase_freq', 'uppercase_freq',\n",
       "       'digit_freq', 'special_char_freq'],\n",
       "      dtype='object')"
      ]
     },
     "execution_count": 56,
     "metadata": {},
     "output_type": "execute_result"
    }
   ],
   "source": [
    "data.columns"
   ]
  },
  {
   "cell_type": "code",
   "execution_count": null,
   "id": "a701ddfd",
   "metadata": {},
   "outputs": [],
   "source": []
  },
  {
   "cell_type": "code",
   "execution_count": 57,
   "id": "cfbecf2f",
   "metadata": {},
   "outputs": [
    {
     "data": {
      "text/html": [
       "<div>\n",
       "<style scoped>\n",
       "    .dataframe tbody tr th:only-of-type {\n",
       "        vertical-align: middle;\n",
       "    }\n",
       "\n",
       "    .dataframe tbody tr th {\n",
       "        vertical-align: top;\n",
       "    }\n",
       "\n",
       "    .dataframe thead tr th {\n",
       "        text-align: left;\n",
       "    }\n",
       "\n",
       "    .dataframe thead tr:last-of-type th {\n",
       "        text-align: right;\n",
       "    }\n",
       "</style>\n",
       "<table border=\"1\" class=\"dataframe\">\n",
       "  <thead>\n",
       "    <tr>\n",
       "      <th></th>\n",
       "      <th colspan=\"4\" halign=\"left\">length</th>\n",
       "    </tr>\n",
       "    <tr>\n",
       "      <th></th>\n",
       "      <th>min</th>\n",
       "      <th>max</th>\n",
       "      <th>mean</th>\n",
       "      <th>median</th>\n",
       "    </tr>\n",
       "    <tr>\n",
       "      <th>strength</th>\n",
       "      <th></th>\n",
       "      <th></th>\n",
       "      <th></th>\n",
       "      <th></th>\n",
       "    </tr>\n",
       "  </thead>\n",
       "  <tbody>\n",
       "    <tr>\n",
       "      <th>0</th>\n",
       "      <td>1</td>\n",
       "      <td>7</td>\n",
       "      <td>6.550947</td>\n",
       "      <td>7.0</td>\n",
       "    </tr>\n",
       "    <tr>\n",
       "      <th>1</th>\n",
       "      <td>8</td>\n",
       "      <td>13</td>\n",
       "      <td>9.611074</td>\n",
       "      <td>9.0</td>\n",
       "    </tr>\n",
       "    <tr>\n",
       "      <th>2</th>\n",
       "      <td>14</td>\n",
       "      <td>220</td>\n",
       "      <td>15.953421</td>\n",
       "      <td>16.0</td>\n",
       "    </tr>\n",
       "  </tbody>\n",
       "</table>\n",
       "</div>"
      ],
      "text/plain": [
       "         length                       \n",
       "            min  max       mean median\n",
       "strength                              \n",
       "0             1    7   6.550947    7.0\n",
       "1             8   13   9.611074    9.0\n",
       "2            14  220  15.953421   16.0"
      ]
     },
     "execution_count": 57,
     "metadata": {},
     "output_type": "execute_result"
    }
   ],
   "source": [
    "data[['length' , 'strength']].groupby(['strength']).agg([\"min\", \"max\" , \"mean\" , \"median\"])"
   ]
  },
  {
   "cell_type": "code",
   "execution_count": null,
   "id": "e4da279d",
   "metadata": {},
   "outputs": [],
   "source": []
  },
  {
   "cell_type": "code",
   "execution_count": 58,
   "id": "c7a8c52c",
   "metadata": {},
   "outputs": [
    {
     "name": "stdout",
     "output_type": "stream",
     "text": [
      "length\n",
      "         length                       \n",
      "            min  max       mean median\n",
      "strength                              \n",
      "0             1    7   6.550947    7.0\n",
      "1             8   13   9.611074    9.0\n",
      "2            14  220  15.953421   16.0\n",
      "\n",
      "\n",
      "lowercase_freq\n",
      "         lowercase_freq                        \n",
      "                    min    max      mean median\n",
      "strength                                       \n",
      "0                   0.0  1.000  0.708050  0.714\n",
      "1                   0.0  0.923  0.630067  0.667\n",
      "2                   0.0  0.917  0.424679  0.400\n",
      "\n",
      "\n",
      "uppercase_freq\n",
      "         uppercase_freq                        \n",
      "                    min    max      mean median\n",
      "strength                                       \n",
      "0                   0.0  1.000  0.012872  0.000\n",
      "1                   0.0  0.923  0.007915  0.000\n",
      "2                   0.0  0.889  0.367633  0.429\n",
      "\n",
      "\n",
      "digit_freq\n",
      "         digit_freq                        \n",
      "                min    max      mean median\n",
      "strength                                   \n",
      "0               0.0  1.000  0.275383  0.286\n",
      "1               0.0  0.923  0.360123  0.333\n",
      "2               0.0  0.895  0.193796  0.188\n",
      "\n",
      "\n",
      "special_char_freq\n",
      "         special_char_freq                           \n",
      "                       min       max      mean median\n",
      "strength                                             \n",
      "0                      0.0  1.000000  0.003693    0.0\n",
      "1                      0.0  0.818182  0.001895    0.0\n",
      "2                      0.0  0.740741  0.013872    0.0\n",
      "\n",
      "\n"
     ]
    }
   ],
   "source": [
    "cols = ['length', 'lowercase_freq', 'uppercase_freq',\n",
    "       'digit_freq', 'special_char_freq']\n",
    "\n",
    "for col in cols:\n",
    "    print(col)\n",
    "    print(data[[col , 'strength']].groupby(['strength']).agg([\"min\", \"max\" , \"mean\" , \"median\"]))\n",
    "    print('\\n')"
   ]
  },
  {
   "cell_type": "markdown",
   "id": "0d6baeaf",
   "metadata": {},
   "source": [
    "### Higher the length, Higher the strength\n",
    "\n",
    "    In case on alphabet frequency higher is not better. \n",
    "    Probably because it'll not be a strong password if max portion is occupied by just alphabets..\n",
    "    Password has more strength if the char types are spread in decent proportions.\n",
    "\n",
    "\n",
    "\n"
   ]
  },
  {
   "cell_type": "code",
   "execution_count": null,
   "id": "22bb59eb",
   "metadata": {},
   "outputs": [],
   "source": []
  },
  {
   "cell_type": "code",
   "execution_count": null,
   "id": "80994ef0",
   "metadata": {},
   "outputs": [],
   "source": []
  },
  {
   "cell_type": "code",
   "execution_count": 60,
   "id": "d7084d31",
   "metadata": {},
   "outputs": [],
   "source": []
  },
  {
   "cell_type": "code",
   "execution_count": 61,
   "id": "64c4fd6d",
   "metadata": {},
   "outputs": [
    {
     "data": {
      "text/plain": [
       "Index(['password', 'strength', 'length', 'lowercase_freq', 'uppercase_freq',\n",
       "       'digit_freq', 'special_char_freq'],\n",
       "      dtype='object')"
      ]
     },
     "execution_count": 61,
     "metadata": {},
     "output_type": "execute_result"
    }
   ],
   "source": [
    "data.columns"
   ]
  },
  {
   "cell_type": "code",
   "execution_count": 62,
   "id": "d674ea11",
   "metadata": {},
   "outputs": [
    {
     "data": {
      "image/png": "[encoded data removed]",
      "text/plain": [
       "<Figure size 1500x700 with 6 Axes>"
      ]
     },
     "metadata": {},
     "output_type": "display_data"
    }
   ],
   "source": [
    "fig , ((ax1 , ax2) , (ax3 , ax4) , (ax5,ax6)) = plt.subplots(3 , 2 , figsize=(15,7))\n",
    "\n",
    "sns.boxplot(x=\"strength\" , y='length' , hue=\"strength\" , ax=ax1 , data=data)\n",
    "sns.boxplot(x=\"strength\" , y='lowercase_freq' , hue=\"strength\" , ax=ax2, data=data)\n",
    "sns.boxplot(x=\"strength\" , y='uppercase_freq' , hue=\"strength\" , ax=ax3, data=data)\n",
    "sns.boxplot(x=\"strength\" , y='digit_freq' , hue=\"strength\" , ax=ax4, data=data)\n",
    "sns.boxplot(x=\"strength\" , y='special_char_freq' , hue=\"strength\" , ax=ax5, data=data)\n",
    "\n",
    "plt.subplots_adjust(hspace=0.6)"
   ]
  },
  {
   "cell_type": "markdown",
   "id": "8454b4e7",
   "metadata": {},
   "source": [
    "### Insights :\n",
    "    Regarding the insights we can say that:-\n",
    "  \n",
    "\n",
    "\n",
    "->> Higher Lowercase frequency is seen in low strength passwords. \n",
    "    For higher strength passwords ,  Lowercase frequency can be high too but that is probably effect of length.\n",
    "\n",
    "\n",
    "->> In digit_freq there is a split of majority poplutation of strength 1 and 2 \n",
    "    but for 0 and 1 strength , there is overlap so no too much to say there. \n",
    "    But we can say a nicely propotioned password is good..\n",
    "    \n",
    "    \n",
    "->> In upper_freq , there is a trend but not as strong as length or lower_freq..\n",
    "    \n",
    "    \n",
    "->> Similar but stronger same trend as above in special_freq.\n",
    "\n",
    "->> Higher strength passwords have more type breaks.\n",
    "\n",
    "\n"
   ]
  },
  {
   "cell_type": "code",
   "execution_count": null,
   "id": "5803a9d6",
   "metadata": {},
   "outputs": [],
   "source": []
  },
  {
   "cell_type": "code",
   "execution_count": null,
   "id": "6c3290f0",
   "metadata": {},
   "outputs": [],
   "source": []
  },
  {
   "cell_type": "code",
   "execution_count": null,
   "id": "f40239ef",
   "metadata": {},
   "outputs": [],
   "source": []
  },
  {
   "cell_type": "markdown",
   "id": "f2c282fc",
   "metadata": {},
   "source": [
    "##  Feature Importance "
   ]
  },
  {
   "cell_type": "code",
   "execution_count": 64,
   "id": "0b384cba",
   "metadata": {},
   "outputs": [
    {
     "data": {
      "text/plain": [
       "Index(['password', 'strength', 'length', 'lowercase_freq', 'uppercase_freq',\n",
       "       'digit_freq', 'special_char_freq'],\n",
       "      dtype='object')"
      ]
     },
     "execution_count": 64,
     "metadata": {},
     "output_type": "execute_result"
    }
   ],
   "source": [
    "data.columns"
   ]
  },
  {
   "cell_type": "code",
   "execution_count": 65,
   "id": "2e2b9793",
   "metadata": {},
   "outputs": [],
   "source": [
    "def get_dist(data , feature):\n",
    "    \n",
    "    plt.figure(figsize=(10,8))\n",
    "    plt.subplot(1,2,1)\n",
    "    \n",
    "    sns.violinplot(x='strength' , y=feature , data=data )\n",
    "    \n",
    "    plt.subplot(1,2,2)\n",
    "    \n",
    "    sns.distplot(data[data['strength']==0][feature] , color=\"red\" , label=\"0\" , hist=False)\n",
    "    sns.distplot(data[data['strength']==1][feature], color=\"blue\", label=\"1\", hist=False)\n",
    "    sns.distplot(data[data['strength']==2][feature], color=\"orange\", label=\"2\", hist=False)\n",
    "    plt.legend()\n",
    "    plt.show()"
   ]
  },
  {
   "cell_type": "code",
   "execution_count": 66,
   "id": "507d0505",
   "metadata": {},
   "outputs": [],
   "source": [
    "import warnings \n",
    "from warnings import filterwarnings\n",
    "filterwarnings(\"ignore\")"
   ]
  },
  {
   "cell_type": "code",
   "execution_count": 67,
   "id": "e5840dcc",
   "metadata": {},
   "outputs": [
    {
     "data": {
      "image/png": "[encoded data removed]",
      "text/plain": [
       "<Figure size 1000x800 with 2 Axes>"
      ]
     },
     "metadata": {},
     "output_type": "display_data"
    }
   ],
   "source": [
    "get_dist(data , \"length\")"
   ]
  },
  {
   "cell_type": "code",
   "execution_count": 68,
   "id": "2ea49f21",
   "metadata": {},
   "outputs": [],
   "source": [
    "\n"
   ]
  },
  {
   "cell_type": "code",
   "execution_count": null,
   "id": "127e69bf",
   "metadata": {},
   "outputs": [],
   "source": []
  },
  {
   "cell_type": "code",
   "execution_count": 69,
   "id": "7deccaf0",
   "metadata": {},
   "outputs": [
    {
     "data": {
      "text/plain": [
       "Index(['password', 'strength', 'length', 'lowercase_freq', 'uppercase_freq',\n",
       "       'digit_freq', 'special_char_freq'],\n",
       "      dtype='object')"
      ]
     },
     "execution_count": 69,
     "metadata": {},
     "output_type": "execute_result"
    }
   ],
   "source": [
    "data.columns"
   ]
  },
  {
   "cell_type": "code",
   "execution_count": 70,
   "id": "8f77cfb2",
   "metadata": {},
   "outputs": [
    {
     "data": {
      "image/png": "[encoded data removed]",
      "text/plain": [
       "<Figure size 1000x800 with 2 Axes>"
      ]
     },
     "metadata": {},
     "output_type": "display_data"
    }
   ],
   "source": [
    "get_dist(data , 'lowercase_freq')"
   ]
  },
  {
   "cell_type": "code",
   "execution_count": 71,
   "id": "2f27a078",
   "metadata": {},
   "outputs": [],
   "source": []
  },
  {
   "cell_type": "code",
   "execution_count": null,
   "id": "d65c3fa6",
   "metadata": {},
   "outputs": [],
   "source": []
  },
  {
   "cell_type": "code",
   "execution_count": 72,
   "id": "bdc537fd",
   "metadata": {},
   "outputs": [
    {
     "data": {
      "image/png": "[encoded data removed]",
      "text/plain": [
       "<Figure size 1000x800 with 2 Axes>"
      ]
     },
     "metadata": {},
     "output_type": "display_data"
    }
   ],
   "source": [
    "get_dist(data , 'uppercase_freq')"
   ]
  },
  {
   "cell_type": "code",
   "execution_count": 73,
   "id": "42f6c773",
   "metadata": {},
   "outputs": [],
   "source": []
  },
  {
   "cell_type": "code",
   "execution_count": null,
   "id": "5d21312f",
   "metadata": {},
   "outputs": [],
   "source": []
  },
  {
   "cell_type": "code",
   "execution_count": 74,
   "id": "5844cdb3",
   "metadata": {},
   "outputs": [
    {
     "data": {
      "image/png": "[encoded data removed]",
      "text/plain": [
       "<Figure size 1000x800 with 2 Axes>"
      ]
     },
     "metadata": {},
     "output_type": "display_data"
    }
   ],
   "source": [
    "get_dist(data , 'digit_freq')"
   ]
  },
  {
   "cell_type": "code",
   "execution_count": null,
   "id": "0819a518",
   "metadata": {},
   "outputs": [],
   "source": []
  },
  {
   "cell_type": "code",
   "execution_count": null,
   "id": "850d33b2",
   "metadata": {},
   "outputs": [],
   "source": []
  },
  {
   "cell_type": "code",
   "execution_count": 66,
   "id": "f3fe2554",
   "metadata": {},
   "outputs": [
    {
     "data": {
      "image/png": "[encoded data removed]",
      "text/plain": [
       "<Figure size 1000x800 with 2 Axes>"
      ]
     },
     "metadata": {},
     "output_type": "display_data"
    }
   ],
   "source": [
    "get_dist(data , 'special_char_freq')"
   ]
  },
  {
   "cell_type": "code",
   "execution_count": null,
   "id": "f7a86635",
   "metadata": {},
   "outputs": [],
   "source": []
  },
  {
   "cell_type": "code",
   "execution_count": null,
   "id": "efc57924",
   "metadata": {},
   "outputs": [],
   "source": []
  },
  {
   "cell_type": "markdown",
   "id": "d9bdf378",
   "metadata": {},
   "source": [
    "### Key Insight : It ives us idea that length & lowercase freq are important features..\n",
    "\n",
    "\n",
    "\n"
   ]
  },
  {
   "cell_type": "code",
   "execution_count": null,
   "id": "89bda579",
   "metadata": {},
   "outputs": [],
   "source": []
  },
  {
   "cell_type": "code",
   "execution_count": null,
   "id": "9e27b7af",
   "metadata": {},
   "outputs": [],
   "source": []
  },
  {
   "cell_type": "code",
   "execution_count": null,
   "id": "77321cf1",
   "metadata": {},
   "outputs": [],
   "source": []
  },
  {
   "cell_type": "markdown",
   "id": "511f9011",
   "metadata": {},
   "source": [
    "## 7.. Applying TF_IDF on data"
   ]
  },
  {
   "cell_type": "code",
   "execution_count": 67,
   "id": "f00d2a28",
   "metadata": {},
   "outputs": [
    {
     "data": {
      "text/html": [
       "<div>\n",
       "<style scoped>\n",
       "    .dataframe tbody tr th:only-of-type {\n",
       "        vertical-align: middle;\n",
       "    }\n",
       "\n",
       "    .dataframe tbody tr th {\n",
       "        vertical-align: top;\n",
       "    }\n",
       "\n",
       "    .dataframe thead th {\n",
       "        text-align: right;\n",
       "    }\n",
       "</style>\n",
       "<table border=\"1\" class=\"dataframe\">\n",
       "  <thead>\n",
       "    <tr style=\"text-align: right;\">\n",
       "      <th></th>\n",
       "      <th>password</th>\n",
       "      <th>strength</th>\n",
       "      <th>length</th>\n",
       "      <th>lowercase_freq</th>\n",
       "      <th>uppercase_freq</th>\n",
       "      <th>digit_freq</th>\n",
       "      <th>special_char_freq</th>\n",
       "    </tr>\n",
       "  </thead>\n",
       "  <tbody>\n",
       "    <tr>\n",
       "      <th>0</th>\n",
       "      <td>zxe870819</td>\n",
       "      <td>1</td>\n",
       "      <td>9</td>\n",
       "      <td>0.333</td>\n",
       "      <td>0.0</td>\n",
       "      <td>0.667</td>\n",
       "      <td>0.000000</td>\n",
       "    </tr>\n",
       "    <tr>\n",
       "      <th>1</th>\n",
       "      <td>xw46454nr23l</td>\n",
       "      <td>1</td>\n",
       "      <td>12</td>\n",
       "      <td>0.417</td>\n",
       "      <td>0.0</td>\n",
       "      <td>0.583</td>\n",
       "      <td>0.000000</td>\n",
       "    </tr>\n",
       "    <tr>\n",
       "      <th>2</th>\n",
       "      <td>soporte13</td>\n",
       "      <td>1</td>\n",
       "      <td>9</td>\n",
       "      <td>0.778</td>\n",
       "      <td>0.0</td>\n",
       "      <td>0.222</td>\n",
       "      <td>0.000000</td>\n",
       "    </tr>\n",
       "    <tr>\n",
       "      <th>3</th>\n",
       "      <td>accounts6000webhost.com</td>\n",
       "      <td>2</td>\n",
       "      <td>23</td>\n",
       "      <td>0.783</td>\n",
       "      <td>0.0</td>\n",
       "      <td>0.174</td>\n",
       "      <td>0.043478</td>\n",
       "    </tr>\n",
       "  </tbody>\n",
       "</table>\n",
       "</div>"
      ],
      "text/plain": [
       "                  password  strength  length  lowercase_freq  uppercase_freq  \\\n",
       "0                zxe870819         1       9           0.333             0.0   \n",
       "1             xw46454nr23l         1      12           0.417             0.0   \n",
       "2                soporte13         1       9           0.778             0.0   \n",
       "3  accounts6000webhost.com         2      23           0.783             0.0   \n",
       "\n",
       "   digit_freq  special_char_freq  \n",
       "0       0.667           0.000000  \n",
       "1       0.583           0.000000  \n",
       "2       0.222           0.000000  \n",
       "3       0.174           0.043478  "
      ]
     },
     "execution_count": 67,
     "metadata": {},
     "output_type": "execute_result"
    }
   ],
   "source": [
    "data.head(4)"
   ]
  },
  {
   "cell_type": "code",
   "execution_count": 68,
   "id": "bc78eb70",
   "metadata": {},
   "outputs": [
    {
     "data": {
      "text/html": [
       "<div>\n",
       "<style scoped>\n",
       "    .dataframe tbody tr th:only-of-type {\n",
       "        vertical-align: middle;\n",
       "    }\n",
       "\n",
       "    .dataframe tbody tr th {\n",
       "        vertical-align: top;\n",
       "    }\n",
       "\n",
       "    .dataframe thead th {\n",
       "        text-align: right;\n",
       "    }\n",
       "</style>\n",
       "<table border=\"1\" class=\"dataframe\">\n",
       "  <thead>\n",
       "    <tr style=\"text-align: right;\">\n",
       "      <th></th>\n",
       "      <th>password</th>\n",
       "      <th>strength</th>\n",
       "      <th>length</th>\n",
       "      <th>lowercase_freq</th>\n",
       "      <th>uppercase_freq</th>\n",
       "      <th>digit_freq</th>\n",
       "      <th>special_char_freq</th>\n",
       "    </tr>\n",
       "  </thead>\n",
       "  <tbody>\n",
       "    <tr>\n",
       "      <th>0</th>\n",
       "      <td>zxe870819</td>\n",
       "      <td>1</td>\n",
       "      <td>9</td>\n",
       "      <td>0.333</td>\n",
       "      <td>0.0</td>\n",
       "      <td>0.667</td>\n",
       "      <td>0.000000</td>\n",
       "    </tr>\n",
       "    <tr>\n",
       "      <th>1</th>\n",
       "      <td>xw46454nr23l</td>\n",
       "      <td>1</td>\n",
       "      <td>12</td>\n",
       "      <td>0.417</td>\n",
       "      <td>0.0</td>\n",
       "      <td>0.583</td>\n",
       "      <td>0.000000</td>\n",
       "    </tr>\n",
       "    <tr>\n",
       "      <th>2</th>\n",
       "      <td>soporte13</td>\n",
       "      <td>1</td>\n",
       "      <td>9</td>\n",
       "      <td>0.778</td>\n",
       "      <td>0.0</td>\n",
       "      <td>0.222</td>\n",
       "      <td>0.000000</td>\n",
       "    </tr>\n",
       "    <tr>\n",
       "      <th>3</th>\n",
       "      <td>accounts6000webhost.com</td>\n",
       "      <td>2</td>\n",
       "      <td>23</td>\n",
       "      <td>0.783</td>\n",
       "      <td>0.0</td>\n",
       "      <td>0.174</td>\n",
       "      <td>0.043478</td>\n",
       "    </tr>\n",
       "    <tr>\n",
       "      <th>4</th>\n",
       "      <td>c443balg</td>\n",
       "      <td>1</td>\n",
       "      <td>8</td>\n",
       "      <td>0.625</td>\n",
       "      <td>0.0</td>\n",
       "      <td>0.375</td>\n",
       "      <td>0.000000</td>\n",
       "    </tr>\n",
       "    <tr>\n",
       "      <th>...</th>\n",
       "      <td>...</td>\n",
       "      <td>...</td>\n",
       "      <td>...</td>\n",
       "      <td>...</td>\n",
       "      <td>...</td>\n",
       "      <td>...</td>\n",
       "      <td>...</td>\n",
       "    </tr>\n",
       "    <tr>\n",
       "      <th>99995</th>\n",
       "      <td>obejofi215</td>\n",
       "      <td>1</td>\n",
       "      <td>10</td>\n",
       "      <td>0.700</td>\n",
       "      <td>0.0</td>\n",
       "      <td>0.300</td>\n",
       "      <td>0.000000</td>\n",
       "    </tr>\n",
       "    <tr>\n",
       "      <th>99996</th>\n",
       "      <td>fmiopvxb64</td>\n",
       "      <td>1</td>\n",
       "      <td>10</td>\n",
       "      <td>0.800</td>\n",
       "      <td>0.0</td>\n",
       "      <td>0.200</td>\n",
       "      <td>0.000000</td>\n",
       "    </tr>\n",
       "    <tr>\n",
       "      <th>99997</th>\n",
       "      <td>czvrbun38</td>\n",
       "      <td>1</td>\n",
       "      <td>9</td>\n",
       "      <td>0.778</td>\n",
       "      <td>0.0</td>\n",
       "      <td>0.222</td>\n",
       "      <td>0.000000</td>\n",
       "    </tr>\n",
       "    <tr>\n",
       "      <th>99998</th>\n",
       "      <td>mymyxe430</td>\n",
       "      <td>1</td>\n",
       "      <td>9</td>\n",
       "      <td>0.667</td>\n",
       "      <td>0.0</td>\n",
       "      <td>0.333</td>\n",
       "      <td>0.000000</td>\n",
       "    </tr>\n",
       "    <tr>\n",
       "      <th>99999</th>\n",
       "      <td>glqjhkxb467</td>\n",
       "      <td>1</td>\n",
       "      <td>11</td>\n",
       "      <td>0.727</td>\n",
       "      <td>0.0</td>\n",
       "      <td>0.273</td>\n",
       "      <td>0.000000</td>\n",
       "    </tr>\n",
       "  </tbody>\n",
       "</table>\n",
       "<p>100000 rows × 7 columns</p>\n",
       "</div>"
      ],
      "text/plain": [
       "                      password  strength  length  lowercase_freq  \\\n",
       "0                    zxe870819         1       9           0.333   \n",
       "1                 xw46454nr23l         1      12           0.417   \n",
       "2                    soporte13         1       9           0.778   \n",
       "3      accounts6000webhost.com         2      23           0.783   \n",
       "4                     c443balg         1       8           0.625   \n",
       "...                        ...       ...     ...             ...   \n",
       "99995               obejofi215         1      10           0.700   \n",
       "99996               fmiopvxb64         1      10           0.800   \n",
       "99997                czvrbun38         1       9           0.778   \n",
       "99998                mymyxe430         1       9           0.667   \n",
       "99999              glqjhkxb467         1      11           0.727   \n",
       "\n",
       "       uppercase_freq  digit_freq  special_char_freq  \n",
       "0                 0.0       0.667           0.000000  \n",
       "1                 0.0       0.583           0.000000  \n",
       "2                 0.0       0.222           0.000000  \n",
       "3                 0.0       0.174           0.043478  \n",
       "4                 0.0       0.375           0.000000  \n",
       "...               ...         ...                ...  \n",
       "99995             0.0       0.300           0.000000  \n",
       "99996             0.0       0.200           0.000000  \n",
       "99997             0.0       0.222           0.000000  \n",
       "99998             0.0       0.333           0.000000  \n",
       "99999             0.0       0.273           0.000000  \n",
       "\n",
       "[100000 rows x 7 columns]"
      ]
     },
     "execution_count": 68,
     "metadata": {},
     "output_type": "execute_result"
    }
   ],
   "source": [
    "data"
   ]
  },
  {
   "cell_type": "code",
   "execution_count": 70,
   "id": "38a4e400",
   "metadata": {},
   "outputs": [],
   "source": [
    "dataframe = data.sample(frac=1) ### shuffling randomly for robustness of ML moodel "
   ]
  },
  {
   "cell_type": "code",
   "execution_count": 71,
   "id": "ed5feb39",
   "metadata": {},
   "outputs": [
    {
     "data": {
      "text/html": [
       "<div>\n",
       "<style scoped>\n",
       "    .dataframe tbody tr th:only-of-type {\n",
       "        vertical-align: middle;\n",
       "    }\n",
       "\n",
       "    .dataframe tbody tr th {\n",
       "        vertical-align: top;\n",
       "    }\n",
       "\n",
       "    .dataframe thead th {\n",
       "        text-align: right;\n",
       "    }\n",
       "</style>\n",
       "<table border=\"1\" class=\"dataframe\">\n",
       "  <thead>\n",
       "    <tr style=\"text-align: right;\">\n",
       "      <th></th>\n",
       "      <th>password</th>\n",
       "      <th>strength</th>\n",
       "      <th>length</th>\n",
       "      <th>lowercase_freq</th>\n",
       "      <th>uppercase_freq</th>\n",
       "      <th>digit_freq</th>\n",
       "      <th>special_char_freq</th>\n",
       "    </tr>\n",
       "  </thead>\n",
       "  <tbody>\n",
       "    <tr>\n",
       "      <th>1516</th>\n",
       "      <td>qq475963602</td>\n",
       "      <td>1</td>\n",
       "      <td>11</td>\n",
       "      <td>0.182</td>\n",
       "      <td>0.000</td>\n",
       "      <td>0.818</td>\n",
       "      <td>0.0</td>\n",
       "    </tr>\n",
       "    <tr>\n",
       "      <th>64007</th>\n",
       "      <td>molu16</td>\n",
       "      <td>0</td>\n",
       "      <td>6</td>\n",
       "      <td>0.667</td>\n",
       "      <td>0.000</td>\n",
       "      <td>0.333</td>\n",
       "      <td>0.0</td>\n",
       "    </tr>\n",
       "    <tr>\n",
       "      <th>36555</th>\n",
       "      <td>6b5t0huz</td>\n",
       "      <td>1</td>\n",
       "      <td>8</td>\n",
       "      <td>0.625</td>\n",
       "      <td>0.000</td>\n",
       "      <td>0.375</td>\n",
       "      <td>0.0</td>\n",
       "    </tr>\n",
       "    <tr>\n",
       "      <th>7202</th>\n",
       "      <td>sBPucizg2MwOYaxT</td>\n",
       "      <td>2</td>\n",
       "      <td>16</td>\n",
       "      <td>0.562</td>\n",
       "      <td>0.375</td>\n",
       "      <td>0.062</td>\n",
       "      <td>0.0</td>\n",
       "    </tr>\n",
       "    <tr>\n",
       "      <th>46949</th>\n",
       "      <td>kurtjna1</td>\n",
       "      <td>1</td>\n",
       "      <td>8</td>\n",
       "      <td>0.875</td>\n",
       "      <td>0.000</td>\n",
       "      <td>0.125</td>\n",
       "      <td>0.0</td>\n",
       "    </tr>\n",
       "    <tr>\n",
       "      <th>...</th>\n",
       "      <td>...</td>\n",
       "      <td>...</td>\n",
       "      <td>...</td>\n",
       "      <td>...</td>\n",
       "      <td>...</td>\n",
       "      <td>...</td>\n",
       "      <td>...</td>\n",
       "    </tr>\n",
       "    <tr>\n",
       "      <th>46697</th>\n",
       "      <td>sevtian117</td>\n",
       "      <td>1</td>\n",
       "      <td>10</td>\n",
       "      <td>0.700</td>\n",
       "      <td>0.000</td>\n",
       "      <td>0.300</td>\n",
       "      <td>0.0</td>\n",
       "    </tr>\n",
       "    <tr>\n",
       "      <th>1289</th>\n",
       "      <td>Kthproductions1234</td>\n",
       "      <td>2</td>\n",
       "      <td>18</td>\n",
       "      <td>0.722</td>\n",
       "      <td>0.056</td>\n",
       "      <td>0.222</td>\n",
       "      <td>0.0</td>\n",
       "    </tr>\n",
       "    <tr>\n",
       "      <th>73267</th>\n",
       "      <td>4FjlK0TI2NQTg725</td>\n",
       "      <td>2</td>\n",
       "      <td>16</td>\n",
       "      <td>0.188</td>\n",
       "      <td>0.438</td>\n",
       "      <td>0.375</td>\n",
       "      <td>0.0</td>\n",
       "    </tr>\n",
       "    <tr>\n",
       "      <th>19221</th>\n",
       "      <td>fg43450229</td>\n",
       "      <td>1</td>\n",
       "      <td>10</td>\n",
       "      <td>0.200</td>\n",
       "      <td>0.000</td>\n",
       "      <td>0.800</td>\n",
       "      <td>0.0</td>\n",
       "    </tr>\n",
       "    <tr>\n",
       "      <th>68622</th>\n",
       "      <td>wqlzyy7623020</td>\n",
       "      <td>1</td>\n",
       "      <td>13</td>\n",
       "      <td>0.462</td>\n",
       "      <td>0.000</td>\n",
       "      <td>0.538</td>\n",
       "      <td>0.0</td>\n",
       "    </tr>\n",
       "  </tbody>\n",
       "</table>\n",
       "<p>100000 rows × 7 columns</p>\n",
       "</div>"
      ],
      "text/plain": [
       "                 password  strength  length  lowercase_freq  uppercase_freq  \\\n",
       "1516          qq475963602         1      11           0.182           0.000   \n",
       "64007              molu16         0       6           0.667           0.000   \n",
       "36555            6b5t0huz         1       8           0.625           0.000   \n",
       "7202     sBPucizg2MwOYaxT         2      16           0.562           0.375   \n",
       "46949            kurtjna1         1       8           0.875           0.000   \n",
       "...                   ...       ...     ...             ...             ...   \n",
       "46697          sevtian117         1      10           0.700           0.000   \n",
       "1289   Kthproductions1234         2      18           0.722           0.056   \n",
       "73267    4FjlK0TI2NQTg725         2      16           0.188           0.438   \n",
       "19221          fg43450229         1      10           0.200           0.000   \n",
       "68622       wqlzyy7623020         1      13           0.462           0.000   \n",
       "\n",
       "       digit_freq  special_char_freq  \n",
       "1516        0.818                0.0  \n",
       "64007       0.333                0.0  \n",
       "36555       0.375                0.0  \n",
       "7202        0.062                0.0  \n",
       "46949       0.125                0.0  \n",
       "...           ...                ...  \n",
       "46697       0.300                0.0  \n",
       "1289        0.222                0.0  \n",
       "73267       0.375                0.0  \n",
       "19221       0.800                0.0  \n",
       "68622       0.538                0.0  \n",
       "\n",
       "[100000 rows x 7 columns]"
      ]
     },
     "execution_count": 71,
     "metadata": {},
     "output_type": "execute_result"
    }
   ],
   "source": [
    "dataframe"
   ]
  },
  {
   "cell_type": "code",
   "execution_count": null,
   "id": "648b99f8",
   "metadata": {},
   "outputs": [],
   "source": []
  },
  {
   "cell_type": "code",
   "execution_count": 89,
   "id": "8d280be2",
   "metadata": {},
   "outputs": [],
   "source": [
    "x = list(dataframe[\"password\"])"
   ]
  },
  {
   "cell_type": "code",
   "execution_count": 83,
   "id": "4bd3e093",
   "metadata": {},
   "outputs": [],
   "source": [
    "from sklearn.feature_extraction.text import TfidfVectorizer ## import TF-IDF vectorizer to convert text data into numerical data"
   ]
  },
  {
   "cell_type": "code",
   "execution_count": null,
   "id": "907ea9fe",
   "metadata": {},
   "outputs": [],
   "source": [
    "#### as password is a series of chars , we have to calculate TF_IDF values of each char \n",
    "#### Thats why we have to split our password as-->>\n",
    "#### kzde5577-->> ['k', 'z', 'd', 'e', '5', '5', '7', '7']\n",
    "\n",
    "\n",
    "### then we can compute Tf-Idf value of each character like Tf-IDF value of k , Tf-IDF value of z\n"
   ]
  },
  {
   "cell_type": "code",
   "execution_count": 84,
   "id": "0ecb57ee",
   "metadata": {},
   "outputs": [],
   "source": [
    "vectorizer = TfidfVectorizer(analyzer=\"char\")"
   ]
  },
  {
   "cell_type": "code",
   "execution_count": 90,
   "id": "e1579994",
   "metadata": {},
   "outputs": [],
   "source": [
    "X = vectorizer.fit_transform(x)"
   ]
  },
  {
   "cell_type": "code",
   "execution_count": 91,
   "id": "97027836",
   "metadata": {},
   "outputs": [
    {
     "data": {
      "text/plain": [
       "(100000, 99)"
      ]
     },
     "execution_count": 91,
     "metadata": {},
     "output_type": "execute_result"
    }
   ],
   "source": [
    "X.shape\n",
    "\n",
    "\n",
    "## ie (100000,1) passwords gets represented using (100000, 99)\n",
    "## ie each password gets represented using 99 dimensions ..\n",
    "\n"
   ]
  },
  {
   "cell_type": "code",
   "execution_count": 92,
   "id": "aa278917",
   "metadata": {},
   "outputs": [
    {
     "data": {
      "text/plain": [
       "(100000,)"
      ]
     },
     "execution_count": 92,
     "metadata": {},
     "output_type": "execute_result"
    }
   ],
   "source": [
    "dataframe[\"password\"].shape"
   ]
  },
  {
   "cell_type": "code",
   "execution_count": null,
   "id": "034e220c",
   "metadata": {},
   "outputs": [],
   "source": []
  },
  {
   "cell_type": "code",
   "execution_count": 93,
   "id": "28b0bb18",
   "metadata": {},
   "outputs": [
    {
     "data": {
      "text/plain": [
       "<100000x99 sparse matrix of type '<class 'numpy.float64'>'\n",
       "\twith 842571 stored elements in Compressed Sparse Row format>"
      ]
     },
     "execution_count": 93,
     "metadata": {},
     "output_type": "execute_result"
    }
   ],
   "source": [
    "X"
   ]
  },
  {
   "cell_type": "code",
   "execution_count": 94,
   "id": "8006f999",
   "metadata": {},
   "outputs": [
    {
     "data": {
      "text/plain": [
       "array([[0., 0., 0., ..., 0., 0., 0.],\n",
       "       [0., 0., 0., ..., 0., 0., 0.],\n",
       "       [0., 0., 0., ..., 0., 0., 0.],\n",
       "       ...,\n",
       "       [0., 0., 0., ..., 0., 0., 0.],\n",
       "       [0., 0., 0., ..., 0., 0., 0.],\n",
       "       [0., 0., 0., ..., 0., 0., 0.]])"
      ]
     },
     "execution_count": 94,
     "metadata": {},
     "output_type": "execute_result"
    }
   ],
   "source": [
    "X.toarray()  "
   ]
  },
  {
   "cell_type": "code",
   "execution_count": 95,
   "id": "4a57db9d",
   "metadata": {},
   "outputs": [
    {
     "data": {
      "text/plain": [
       "array([0.        , 0.        , 0.        , 0.        , 0.        ,\n",
       "       0.        , 0.        , 0.        , 0.        , 0.        ,\n",
       "       0.        , 0.        , 0.        , 0.        , 0.        ,\n",
       "       0.        , 0.        , 0.        , 0.        , 0.        ,\n",
       "       0.21839161, 0.        , 0.19384265, 0.21710461, 0.23971391,\n",
       "       0.24269376, 0.50858457, 0.25313426, 0.        , 0.23425394,\n",
       "       0.        , 0.        , 0.        , 0.        , 0.        ,\n",
       "       0.        , 0.        , 0.        , 0.        , 0.        ,\n",
       "       0.        , 0.        , 0.        , 0.        , 0.        ,\n",
       "       0.        , 0.        , 0.        , 0.        , 0.        ,\n",
       "       0.        , 0.        , 0.        , 0.        , 0.        ,\n",
       "       0.        , 0.        , 0.        , 0.61124673, 0.        ,\n",
       "       0.        , 0.        , 0.        , 0.        , 0.        ,\n",
       "       0.        , 0.        , 0.        , 0.        , 0.        ,\n",
       "       0.        , 0.        , 0.        , 0.        , 0.        ,\n",
       "       0.        , 0.        , 0.        , 0.        , 0.        ,\n",
       "       0.        , 0.        , 0.        , 0.        , 0.        ,\n",
       "       0.        , 0.        , 0.        , 0.        , 0.        ,\n",
       "       0.        , 0.        , 0.        , 0.        , 0.        ,\n",
       "       0.        , 0.        , 0.        , 0.        ])"
      ]
     },
     "execution_count": 95,
     "metadata": {},
     "output_type": "execute_result"
    }
   ],
   "source": [
    "X.toarray()[0] "
   ]
  },
  {
   "cell_type": "code",
   "execution_count": 96,
   "id": "4044892b",
   "metadata": {},
   "outputs": [
    {
     "data": {
      "text/plain": [
       "1516            qq475963602\n",
       "64007                molu16\n",
       "36555              6b5t0huz\n",
       "7202       sBPucizg2MwOYaxT\n",
       "46949              kurtjna1\n",
       "                ...        \n",
       "46697            sevtian117\n",
       "1289     Kthproductions1234\n",
       "73267      4FjlK0TI2NQTg725\n",
       "19221            fg43450229\n",
       "68622         wqlzyy7623020\n",
       "Name: password, Length: 100000, dtype: object"
      ]
     },
     "execution_count": 96,
     "metadata": {},
     "output_type": "execute_result"
    }
   ],
   "source": [
    "dataframe[\"password\"]"
   ]
  },
  {
   "cell_type": "code",
   "execution_count": null,
   "id": "a757c777",
   "metadata": {},
   "outputs": [],
   "source": []
  },
  {
   "cell_type": "code",
   "execution_count": 98,
   "id": "32e5c8a2",
   "metadata": {},
   "outputs": [
    {
     "data": {
      "text/plain": [
       "99"
      ]
     },
     "execution_count": 98,
     "metadata": {},
     "output_type": "execute_result"
    }
   ],
   "source": [
    "len(vectorizer.get_feature_names_out())"
   ]
  },
  {
   "cell_type": "code",
   "execution_count": 99,
   "id": "d2f5e4f5",
   "metadata": {},
   "outputs": [
    {
     "data": {
      "text/plain": [
       "array(['\\x04', '\\x06', '\\x08', '\\x0e', '\\x10', '\\x11', '\\x17', ' ', '!',\n",
       "       '#', '$', '%', '&', '(', ')', '*', '+', '-', '.', '/', '0', '1',\n",
       "       '2', '3', '4', '5', '6', '7', '8', '9', ';', '<', '=', '>', '?',\n",
       "       '@', '[', '\\\\', ']', '^', '_', '`', 'a', 'b', 'c', 'd', 'e', 'f',\n",
       "       'g', 'h', 'i', 'j', 'k', 'l', 'm', 'n', 'o', 'p', 'q', 'r', 's',\n",
       "       't', 'u', 'v', 'w', 'x', 'y', 'z', '{', '|', '}', '~', '¡', '¨',\n",
       "       '°', '±', '³', '´', 'µ', '·', 'ß', 'à', 'á', 'ä', 'æ', 'ç', 'é',\n",
       "       'ê', 'í', 'ñ', 'ó', 'õ', 'ö', '÷', 'ú', 'ü', 'ý', 'þ', '›'],\n",
       "      dtype=object)"
      ]
     },
     "execution_count": 99,
     "metadata": {},
     "output_type": "execute_result"
    }
   ],
   "source": [
    "\n",
    "\n",
    "vectorizer.get_feature_names_out()\n",
    "\n"
   ]
  },
  {
   "cell_type": "code",
   "execution_count": 101,
   "id": "c002483c",
   "metadata": {},
   "outputs": [],
   "source": [
    "df2 = pd.DataFrame(X.toarray() , columns=vectorizer.get_feature_names_out())"
   ]
  },
  {
   "cell_type": "code",
   "execution_count": 102,
   "id": "1c08d6b2",
   "metadata": {},
   "outputs": [
    {
     "data": {
      "text/html": [
       "<div>\n",
       "<style scoped>\n",
       "    .dataframe tbody tr th:only-of-type {\n",
       "        vertical-align: middle;\n",
       "    }\n",
       "\n",
       "    .dataframe tbody tr th {\n",
       "        vertical-align: top;\n",
       "    }\n",
       "\n",
       "    .dataframe thead th {\n",
       "        text-align: right;\n",
       "    }\n",
       "</style>\n",
       "<table border=\"1\" class=\"dataframe\">\n",
       "  <thead>\n",
       "    <tr style=\"text-align: right;\">\n",
       "      <th></th>\n",
       "      <th>\u0004</th>\n",
       "      <th>\u0006</th>\n",
       "      <th>\b</th>\n",
       "      <th>\u000e</th>\n",
       "      <th>\u0010</th>\n",
       "      <th>\u0011</th>\n",
       "      <th>\u0017</th>\n",
       "      <th></th>\n",
       "      <th>!</th>\n",
       "      <th>#</th>\n",
       "      <th>...</th>\n",
       "      <th>ñ</th>\n",
       "      <th>ó</th>\n",
       "      <th>õ</th>\n",
       "      <th>ö</th>\n",
       "      <th>÷</th>\n",
       "      <th>ú</th>\n",
       "      <th>ü</th>\n",
       "      <th>ý</th>\n",
       "      <th>þ</th>\n",
       "      <th>›</th>\n",
       "    </tr>\n",
       "  </thead>\n",
       "  <tbody>\n",
       "    <tr>\n",
       "      <th>0</th>\n",
       "      <td>0.0</td>\n",
       "      <td>0.0</td>\n",
       "      <td>0.0</td>\n",
       "      <td>0.0</td>\n",
       "      <td>0.0</td>\n",
       "      <td>0.0</td>\n",
       "      <td>0.0</td>\n",
       "      <td>0.0</td>\n",
       "      <td>0.0</td>\n",
       "      <td>0.0</td>\n",
       "      <td>...</td>\n",
       "      <td>0.0</td>\n",
       "      <td>0.0</td>\n",
       "      <td>0.0</td>\n",
       "      <td>0.0</td>\n",
       "      <td>0.0</td>\n",
       "      <td>0.0</td>\n",
       "      <td>0.0</td>\n",
       "      <td>0.0</td>\n",
       "      <td>0.0</td>\n",
       "      <td>0.0</td>\n",
       "    </tr>\n",
       "    <tr>\n",
       "      <th>1</th>\n",
       "      <td>0.0</td>\n",
       "      <td>0.0</td>\n",
       "      <td>0.0</td>\n",
       "      <td>0.0</td>\n",
       "      <td>0.0</td>\n",
       "      <td>0.0</td>\n",
       "      <td>0.0</td>\n",
       "      <td>0.0</td>\n",
       "      <td>0.0</td>\n",
       "      <td>0.0</td>\n",
       "      <td>...</td>\n",
       "      <td>0.0</td>\n",
       "      <td>0.0</td>\n",
       "      <td>0.0</td>\n",
       "      <td>0.0</td>\n",
       "      <td>0.0</td>\n",
       "      <td>0.0</td>\n",
       "      <td>0.0</td>\n",
       "      <td>0.0</td>\n",
       "      <td>0.0</td>\n",
       "      <td>0.0</td>\n",
       "    </tr>\n",
       "    <tr>\n",
       "      <th>2</th>\n",
       "      <td>0.0</td>\n",
       "      <td>0.0</td>\n",
       "      <td>0.0</td>\n",
       "      <td>0.0</td>\n",
       "      <td>0.0</td>\n",
       "      <td>0.0</td>\n",
       "      <td>0.0</td>\n",
       "      <td>0.0</td>\n",
       "      <td>0.0</td>\n",
       "      <td>0.0</td>\n",
       "      <td>...</td>\n",
       "      <td>0.0</td>\n",
       "      <td>0.0</td>\n",
       "      <td>0.0</td>\n",
       "      <td>0.0</td>\n",
       "      <td>0.0</td>\n",
       "      <td>0.0</td>\n",
       "      <td>0.0</td>\n",
       "      <td>0.0</td>\n",
       "      <td>0.0</td>\n",
       "      <td>0.0</td>\n",
       "    </tr>\n",
       "    <tr>\n",
       "      <th>3</th>\n",
       "      <td>0.0</td>\n",
       "      <td>0.0</td>\n",
       "      <td>0.0</td>\n",
       "      <td>0.0</td>\n",
       "      <td>0.0</td>\n",
       "      <td>0.0</td>\n",
       "      <td>0.0</td>\n",
       "      <td>0.0</td>\n",
       "      <td>0.0</td>\n",
       "      <td>0.0</td>\n",
       "      <td>...</td>\n",
       "      <td>0.0</td>\n",
       "      <td>0.0</td>\n",
       "      <td>0.0</td>\n",
       "      <td>0.0</td>\n",
       "      <td>0.0</td>\n",
       "      <td>0.0</td>\n",
       "      <td>0.0</td>\n",
       "      <td>0.0</td>\n",
       "      <td>0.0</td>\n",
       "      <td>0.0</td>\n",
       "    </tr>\n",
       "    <tr>\n",
       "      <th>4</th>\n",
       "      <td>0.0</td>\n",
       "      <td>0.0</td>\n",
       "      <td>0.0</td>\n",
       "      <td>0.0</td>\n",
       "      <td>0.0</td>\n",
       "      <td>0.0</td>\n",
       "      <td>0.0</td>\n",
       "      <td>0.0</td>\n",
       "      <td>0.0</td>\n",
       "      <td>0.0</td>\n",
       "      <td>...</td>\n",
       "      <td>0.0</td>\n",
       "      <td>0.0</td>\n",
       "      <td>0.0</td>\n",
       "      <td>0.0</td>\n",
       "      <td>0.0</td>\n",
       "      <td>0.0</td>\n",
       "      <td>0.0</td>\n",
       "      <td>0.0</td>\n",
       "      <td>0.0</td>\n",
       "      <td>0.0</td>\n",
       "    </tr>\n",
       "    <tr>\n",
       "      <th>...</th>\n",
       "      <td>...</td>\n",
       "      <td>...</td>\n",
       "      <td>...</td>\n",
       "      <td>...</td>\n",
       "      <td>...</td>\n",
       "      <td>...</td>\n",
       "      <td>...</td>\n",
       "      <td>...</td>\n",
       "      <td>...</td>\n",
       "      <td>...</td>\n",
       "      <td>...</td>\n",
       "      <td>...</td>\n",
       "      <td>...</td>\n",
       "      <td>...</td>\n",
       "      <td>...</td>\n",
       "      <td>...</td>\n",
       "      <td>...</td>\n",
       "      <td>...</td>\n",
       "      <td>...</td>\n",
       "      <td>...</td>\n",
       "      <td>...</td>\n",
       "    </tr>\n",
       "    <tr>\n",
       "      <th>99995</th>\n",
       "      <td>0.0</td>\n",
       "      <td>0.0</td>\n",
       "      <td>0.0</td>\n",
       "      <td>0.0</td>\n",
       "      <td>0.0</td>\n",
       "      <td>0.0</td>\n",
       "      <td>0.0</td>\n",
       "      <td>0.0</td>\n",
       "      <td>0.0</td>\n",
       "      <td>0.0</td>\n",
       "      <td>...</td>\n",
       "      <td>0.0</td>\n",
       "      <td>0.0</td>\n",
       "      <td>0.0</td>\n",
       "      <td>0.0</td>\n",
       "      <td>0.0</td>\n",
       "      <td>0.0</td>\n",
       "      <td>0.0</td>\n",
       "      <td>0.0</td>\n",
       "      <td>0.0</td>\n",
       "      <td>0.0</td>\n",
       "    </tr>\n",
       "    <tr>\n",
       "      <th>99996</th>\n",
       "      <td>0.0</td>\n",
       "      <td>0.0</td>\n",
       "      <td>0.0</td>\n",
       "      <td>0.0</td>\n",
       "      <td>0.0</td>\n",
       "      <td>0.0</td>\n",
       "      <td>0.0</td>\n",
       "      <td>0.0</td>\n",
       "      <td>0.0</td>\n",
       "      <td>0.0</td>\n",
       "      <td>...</td>\n",
       "      <td>0.0</td>\n",
       "      <td>0.0</td>\n",
       "      <td>0.0</td>\n",
       "      <td>0.0</td>\n",
       "      <td>0.0</td>\n",
       "      <td>0.0</td>\n",
       "      <td>0.0</td>\n",
       "      <td>0.0</td>\n",
       "      <td>0.0</td>\n",
       "      <td>0.0</td>\n",
       "    </tr>\n",
       "    <tr>\n",
       "      <th>99997</th>\n",
       "      <td>0.0</td>\n",
       "      <td>0.0</td>\n",
       "      <td>0.0</td>\n",
       "      <td>0.0</td>\n",
       "      <td>0.0</td>\n",
       "      <td>0.0</td>\n",
       "      <td>0.0</td>\n",
       "      <td>0.0</td>\n",
       "      <td>0.0</td>\n",
       "      <td>0.0</td>\n",
       "      <td>...</td>\n",
       "      <td>0.0</td>\n",
       "      <td>0.0</td>\n",
       "      <td>0.0</td>\n",
       "      <td>0.0</td>\n",
       "      <td>0.0</td>\n",
       "      <td>0.0</td>\n",
       "      <td>0.0</td>\n",
       "      <td>0.0</td>\n",
       "      <td>0.0</td>\n",
       "      <td>0.0</td>\n",
       "    </tr>\n",
       "    <tr>\n",
       "      <th>99998</th>\n",
       "      <td>0.0</td>\n",
       "      <td>0.0</td>\n",
       "      <td>0.0</td>\n",
       "      <td>0.0</td>\n",
       "      <td>0.0</td>\n",
       "      <td>0.0</td>\n",
       "      <td>0.0</td>\n",
       "      <td>0.0</td>\n",
       "      <td>0.0</td>\n",
       "      <td>0.0</td>\n",
       "      <td>...</td>\n",
       "      <td>0.0</td>\n",
       "      <td>0.0</td>\n",
       "      <td>0.0</td>\n",
       "      <td>0.0</td>\n",
       "      <td>0.0</td>\n",
       "      <td>0.0</td>\n",
       "      <td>0.0</td>\n",
       "      <td>0.0</td>\n",
       "      <td>0.0</td>\n",
       "      <td>0.0</td>\n",
       "    </tr>\n",
       "    <tr>\n",
       "      <th>99999</th>\n",
       "      <td>0.0</td>\n",
       "      <td>0.0</td>\n",
       "      <td>0.0</td>\n",
       "      <td>0.0</td>\n",
       "      <td>0.0</td>\n",
       "      <td>0.0</td>\n",
       "      <td>0.0</td>\n",
       "      <td>0.0</td>\n",
       "      <td>0.0</td>\n",
       "      <td>0.0</td>\n",
       "      <td>...</td>\n",
       "      <td>0.0</td>\n",
       "      <td>0.0</td>\n",
       "      <td>0.0</td>\n",
       "      <td>0.0</td>\n",
       "      <td>0.0</td>\n",
       "      <td>0.0</td>\n",
       "      <td>0.0</td>\n",
       "      <td>0.0</td>\n",
       "      <td>0.0</td>\n",
       "      <td>0.0</td>\n",
       "    </tr>\n",
       "  </tbody>\n",
       "</table>\n",
       "<p>100000 rows × 99 columns</p>\n",
       "</div>"
      ],
      "text/plain": [
       "         \u0004    \u0006    \b    \u000e    \u0010    \u0011    \u0017         !    #  ...    ñ    ó    õ  \\\n",
       "0      0.0  0.0  0.0  0.0  0.0  0.0  0.0  0.0  0.0  0.0  ...  0.0  0.0  0.0   \n",
       "1      0.0  0.0  0.0  0.0  0.0  0.0  0.0  0.0  0.0  0.0  ...  0.0  0.0  0.0   \n",
       "2      0.0  0.0  0.0  0.0  0.0  0.0  0.0  0.0  0.0  0.0  ...  0.0  0.0  0.0   \n",
       "3      0.0  0.0  0.0  0.0  0.0  0.0  0.0  0.0  0.0  0.0  ...  0.0  0.0  0.0   \n",
       "4      0.0  0.0  0.0  0.0  0.0  0.0  0.0  0.0  0.0  0.0  ...  0.0  0.0  0.0   \n",
       "...    ...  ...  ...  ...  ...  ...  ...  ...  ...  ...  ...  ...  ...  ...   \n",
       "99995  0.0  0.0  0.0  0.0  0.0  0.0  0.0  0.0  0.0  0.0  ...  0.0  0.0  0.0   \n",
       "99996  0.0  0.0  0.0  0.0  0.0  0.0  0.0  0.0  0.0  0.0  ...  0.0  0.0  0.0   \n",
       "99997  0.0  0.0  0.0  0.0  0.0  0.0  0.0  0.0  0.0  0.0  ...  0.0  0.0  0.0   \n",
       "99998  0.0  0.0  0.0  0.0  0.0  0.0  0.0  0.0  0.0  0.0  ...  0.0  0.0  0.0   \n",
       "99999  0.0  0.0  0.0  0.0  0.0  0.0  0.0  0.0  0.0  0.0  ...  0.0  0.0  0.0   \n",
       "\n",
       "         ö    ÷    ú    ü    ý    þ    ›  \n",
       "0      0.0  0.0  0.0  0.0  0.0  0.0  0.0  \n",
       "1      0.0  0.0  0.0  0.0  0.0  0.0  0.0  \n",
       "2      0.0  0.0  0.0  0.0  0.0  0.0  0.0  \n",
       "3      0.0  0.0  0.0  0.0  0.0  0.0  0.0  \n",
       "4      0.0  0.0  0.0  0.0  0.0  0.0  0.0  \n",
       "...    ...  ...  ...  ...  ...  ...  ...  \n",
       "99995  0.0  0.0  0.0  0.0  0.0  0.0  0.0  \n",
       "99996  0.0  0.0  0.0  0.0  0.0  0.0  0.0  \n",
       "99997  0.0  0.0  0.0  0.0  0.0  0.0  0.0  \n",
       "99998  0.0  0.0  0.0  0.0  0.0  0.0  0.0  \n",
       "99999  0.0  0.0  0.0  0.0  0.0  0.0  0.0  \n",
       "\n",
       "[100000 rows x 99 columns]"
      ]
     },
     "execution_count": 102,
     "metadata": {},
     "output_type": "execute_result"
    }
   ],
   "source": [
    "df2"
   ]
  },
  {
   "cell_type": "code",
   "execution_count": null,
   "id": "c559bbc8",
   "metadata": {},
   "outputs": [],
   "source": []
  },
  {
   "cell_type": "code",
   "execution_count": null,
   "id": "f72289fc",
   "metadata": {},
   "outputs": [],
   "source": []
  },
  {
   "cell_type": "code",
   "execution_count": null,
   "id": "4bcc7607",
   "metadata": {},
   "outputs": [],
   "source": []
  },
  {
   "cell_type": "markdown",
   "id": "4a09e7b2",
   "metadata": {},
   "source": [
    "### Applying Machine Learning algorithm "
   ]
  },
  {
   "cell_type": "code",
   "execution_count": 103,
   "id": "2e2ebc23",
   "metadata": {},
   "outputs": [
    {
     "data": {
      "text/plain": [
       "Index(['password', 'strength', 'length', 'lowercase_freq', 'uppercase_freq',\n",
       "       'digit_freq', 'special_char_freq'],\n",
       "      dtype='object')"
      ]
     },
     "execution_count": 103,
     "metadata": {},
     "output_type": "execute_result"
    }
   ],
   "source": [
    "dataframe.columns"
   ]
  },
  {
   "cell_type": "code",
   "execution_count": 104,
   "id": "568631a6",
   "metadata": {},
   "outputs": [],
   "source": [
    "df2[\"length\"] = dataframe['length']\n",
    "df2[\"lowercase_freq\"] = dataframe['lowercase_freq']"
   ]
  },
  {
   "cell_type": "code",
   "execution_count": 105,
   "id": "b437316c",
   "metadata": {},
   "outputs": [
    {
     "data": {
      "text/html": [
       "<div>\n",
       "<style scoped>\n",
       "    .dataframe tbody tr th:only-of-type {\n",
       "        vertical-align: middle;\n",
       "    }\n",
       "\n",
       "    .dataframe tbody tr th {\n",
       "        vertical-align: top;\n",
       "    }\n",
       "\n",
       "    .dataframe thead th {\n",
       "        text-align: right;\n",
       "    }\n",
       "</style>\n",
       "<table border=\"1\" class=\"dataframe\">\n",
       "  <thead>\n",
       "    <tr style=\"text-align: right;\">\n",
       "      <th></th>\n",
       "      <th>\u0004</th>\n",
       "      <th>\u0006</th>\n",
       "      <th>\b</th>\n",
       "      <th>\u000e</th>\n",
       "      <th>\u0010</th>\n",
       "      <th>\u0011</th>\n",
       "      <th>\u0017</th>\n",
       "      <th></th>\n",
       "      <th>!</th>\n",
       "      <th>#</th>\n",
       "      <th>...</th>\n",
       "      <th>õ</th>\n",
       "      <th>ö</th>\n",
       "      <th>÷</th>\n",
       "      <th>ú</th>\n",
       "      <th>ü</th>\n",
       "      <th>ý</th>\n",
       "      <th>þ</th>\n",
       "      <th>›</th>\n",
       "      <th>length</th>\n",
       "      <th>lowercase_freq</th>\n",
       "    </tr>\n",
       "  </thead>\n",
       "  <tbody>\n",
       "    <tr>\n",
       "      <th>0</th>\n",
       "      <td>0.0</td>\n",
       "      <td>0.0</td>\n",
       "      <td>0.0</td>\n",
       "      <td>0.0</td>\n",
       "      <td>0.0</td>\n",
       "      <td>0.0</td>\n",
       "      <td>0.0</td>\n",
       "      <td>0.0</td>\n",
       "      <td>0.0</td>\n",
       "      <td>0.0</td>\n",
       "      <td>...</td>\n",
       "      <td>0.0</td>\n",
       "      <td>0.0</td>\n",
       "      <td>0.0</td>\n",
       "      <td>0.0</td>\n",
       "      <td>0.0</td>\n",
       "      <td>0.0</td>\n",
       "      <td>0.0</td>\n",
       "      <td>0.0</td>\n",
       "      <td>9</td>\n",
       "      <td>0.333</td>\n",
       "    </tr>\n",
       "    <tr>\n",
       "      <th>1</th>\n",
       "      <td>0.0</td>\n",
       "      <td>0.0</td>\n",
       "      <td>0.0</td>\n",
       "      <td>0.0</td>\n",
       "      <td>0.0</td>\n",
       "      <td>0.0</td>\n",
       "      <td>0.0</td>\n",
       "      <td>0.0</td>\n",
       "      <td>0.0</td>\n",
       "      <td>0.0</td>\n",
       "      <td>...</td>\n",
       "      <td>0.0</td>\n",
       "      <td>0.0</td>\n",
       "      <td>0.0</td>\n",
       "      <td>0.0</td>\n",
       "      <td>0.0</td>\n",
       "      <td>0.0</td>\n",
       "      <td>0.0</td>\n",
       "      <td>0.0</td>\n",
       "      <td>12</td>\n",
       "      <td>0.417</td>\n",
       "    </tr>\n",
       "    <tr>\n",
       "      <th>2</th>\n",
       "      <td>0.0</td>\n",
       "      <td>0.0</td>\n",
       "      <td>0.0</td>\n",
       "      <td>0.0</td>\n",
       "      <td>0.0</td>\n",
       "      <td>0.0</td>\n",
       "      <td>0.0</td>\n",
       "      <td>0.0</td>\n",
       "      <td>0.0</td>\n",
       "      <td>0.0</td>\n",
       "      <td>...</td>\n",
       "      <td>0.0</td>\n",
       "      <td>0.0</td>\n",
       "      <td>0.0</td>\n",
       "      <td>0.0</td>\n",
       "      <td>0.0</td>\n",
       "      <td>0.0</td>\n",
       "      <td>0.0</td>\n",
       "      <td>0.0</td>\n",
       "      <td>9</td>\n",
       "      <td>0.778</td>\n",
       "    </tr>\n",
       "    <tr>\n",
       "      <th>3</th>\n",
       "      <td>0.0</td>\n",
       "      <td>0.0</td>\n",
       "      <td>0.0</td>\n",
       "      <td>0.0</td>\n",
       "      <td>0.0</td>\n",
       "      <td>0.0</td>\n",
       "      <td>0.0</td>\n",
       "      <td>0.0</td>\n",
       "      <td>0.0</td>\n",
       "      <td>0.0</td>\n",
       "      <td>...</td>\n",
       "      <td>0.0</td>\n",
       "      <td>0.0</td>\n",
       "      <td>0.0</td>\n",
       "      <td>0.0</td>\n",
       "      <td>0.0</td>\n",
       "      <td>0.0</td>\n",
       "      <td>0.0</td>\n",
       "      <td>0.0</td>\n",
       "      <td>23</td>\n",
       "      <td>0.783</td>\n",
       "    </tr>\n",
       "    <tr>\n",
       "      <th>4</th>\n",
       "      <td>0.0</td>\n",
       "      <td>0.0</td>\n",
       "      <td>0.0</td>\n",
       "      <td>0.0</td>\n",
       "      <td>0.0</td>\n",
       "      <td>0.0</td>\n",
       "      <td>0.0</td>\n",
       "      <td>0.0</td>\n",
       "      <td>0.0</td>\n",
       "      <td>0.0</td>\n",
       "      <td>...</td>\n",
       "      <td>0.0</td>\n",
       "      <td>0.0</td>\n",
       "      <td>0.0</td>\n",
       "      <td>0.0</td>\n",
       "      <td>0.0</td>\n",
       "      <td>0.0</td>\n",
       "      <td>0.0</td>\n",
       "      <td>0.0</td>\n",
       "      <td>8</td>\n",
       "      <td>0.625</td>\n",
       "    </tr>\n",
       "    <tr>\n",
       "      <th>...</th>\n",
       "      <td>...</td>\n",
       "      <td>...</td>\n",
       "      <td>...</td>\n",
       "      <td>...</td>\n",
       "      <td>...</td>\n",
       "      <td>...</td>\n",
       "      <td>...</td>\n",
       "      <td>...</td>\n",
       "      <td>...</td>\n",
       "      <td>...</td>\n",
       "      <td>...</td>\n",
       "      <td>...</td>\n",
       "      <td>...</td>\n",
       "      <td>...</td>\n",
       "      <td>...</td>\n",
       "      <td>...</td>\n",
       "      <td>...</td>\n",
       "      <td>...</td>\n",
       "      <td>...</td>\n",
       "      <td>...</td>\n",
       "      <td>...</td>\n",
       "    </tr>\n",
       "    <tr>\n",
       "      <th>99995</th>\n",
       "      <td>0.0</td>\n",
       "      <td>0.0</td>\n",
       "      <td>0.0</td>\n",
       "      <td>0.0</td>\n",
       "      <td>0.0</td>\n",
       "      <td>0.0</td>\n",
       "      <td>0.0</td>\n",
       "      <td>0.0</td>\n",
       "      <td>0.0</td>\n",
       "      <td>0.0</td>\n",
       "      <td>...</td>\n",
       "      <td>0.0</td>\n",
       "      <td>0.0</td>\n",
       "      <td>0.0</td>\n",
       "      <td>0.0</td>\n",
       "      <td>0.0</td>\n",
       "      <td>0.0</td>\n",
       "      <td>0.0</td>\n",
       "      <td>0.0</td>\n",
       "      <td>10</td>\n",
       "      <td>0.700</td>\n",
       "    </tr>\n",
       "    <tr>\n",
       "      <th>99996</th>\n",
       "      <td>0.0</td>\n",
       "      <td>0.0</td>\n",
       "      <td>0.0</td>\n",
       "      <td>0.0</td>\n",
       "      <td>0.0</td>\n",
       "      <td>0.0</td>\n",
       "      <td>0.0</td>\n",
       "      <td>0.0</td>\n",
       "      <td>0.0</td>\n",
       "      <td>0.0</td>\n",
       "      <td>...</td>\n",
       "      <td>0.0</td>\n",
       "      <td>0.0</td>\n",
       "      <td>0.0</td>\n",
       "      <td>0.0</td>\n",
       "      <td>0.0</td>\n",
       "      <td>0.0</td>\n",
       "      <td>0.0</td>\n",
       "      <td>0.0</td>\n",
       "      <td>10</td>\n",
       "      <td>0.800</td>\n",
       "    </tr>\n",
       "    <tr>\n",
       "      <th>99997</th>\n",
       "      <td>0.0</td>\n",
       "      <td>0.0</td>\n",
       "      <td>0.0</td>\n",
       "      <td>0.0</td>\n",
       "      <td>0.0</td>\n",
       "      <td>0.0</td>\n",
       "      <td>0.0</td>\n",
       "      <td>0.0</td>\n",
       "      <td>0.0</td>\n",
       "      <td>0.0</td>\n",
       "      <td>...</td>\n",
       "      <td>0.0</td>\n",
       "      <td>0.0</td>\n",
       "      <td>0.0</td>\n",
       "      <td>0.0</td>\n",
       "      <td>0.0</td>\n",
       "      <td>0.0</td>\n",
       "      <td>0.0</td>\n",
       "      <td>0.0</td>\n",
       "      <td>9</td>\n",
       "      <td>0.778</td>\n",
       "    </tr>\n",
       "    <tr>\n",
       "      <th>99998</th>\n",
       "      <td>0.0</td>\n",
       "      <td>0.0</td>\n",
       "      <td>0.0</td>\n",
       "      <td>0.0</td>\n",
       "      <td>0.0</td>\n",
       "      <td>0.0</td>\n",
       "      <td>0.0</td>\n",
       "      <td>0.0</td>\n",
       "      <td>0.0</td>\n",
       "      <td>0.0</td>\n",
       "      <td>...</td>\n",
       "      <td>0.0</td>\n",
       "      <td>0.0</td>\n",
       "      <td>0.0</td>\n",
       "      <td>0.0</td>\n",
       "      <td>0.0</td>\n",
       "      <td>0.0</td>\n",
       "      <td>0.0</td>\n",
       "      <td>0.0</td>\n",
       "      <td>9</td>\n",
       "      <td>0.667</td>\n",
       "    </tr>\n",
       "    <tr>\n",
       "      <th>99999</th>\n",
       "      <td>0.0</td>\n",
       "      <td>0.0</td>\n",
       "      <td>0.0</td>\n",
       "      <td>0.0</td>\n",
       "      <td>0.0</td>\n",
       "      <td>0.0</td>\n",
       "      <td>0.0</td>\n",
       "      <td>0.0</td>\n",
       "      <td>0.0</td>\n",
       "      <td>0.0</td>\n",
       "      <td>...</td>\n",
       "      <td>0.0</td>\n",
       "      <td>0.0</td>\n",
       "      <td>0.0</td>\n",
       "      <td>0.0</td>\n",
       "      <td>0.0</td>\n",
       "      <td>0.0</td>\n",
       "      <td>0.0</td>\n",
       "      <td>0.0</td>\n",
       "      <td>11</td>\n",
       "      <td>0.727</td>\n",
       "    </tr>\n",
       "  </tbody>\n",
       "</table>\n",
       "<p>100000 rows × 101 columns</p>\n",
       "</div>"
      ],
      "text/plain": [
       "         \u0004    \u0006    \b    \u000e    \u0010    \u0011    \u0017         !    #  ...    õ    ö    ÷  \\\n",
       "0      0.0  0.0  0.0  0.0  0.0  0.0  0.0  0.0  0.0  0.0  ...  0.0  0.0  0.0   \n",
       "1      0.0  0.0  0.0  0.0  0.0  0.0  0.0  0.0  0.0  0.0  ...  0.0  0.0  0.0   \n",
       "2      0.0  0.0  0.0  0.0  0.0  0.0  0.0  0.0  0.0  0.0  ...  0.0  0.0  0.0   \n",
       "3      0.0  0.0  0.0  0.0  0.0  0.0  0.0  0.0  0.0  0.0  ...  0.0  0.0  0.0   \n",
       "4      0.0  0.0  0.0  0.0  0.0  0.0  0.0  0.0  0.0  0.0  ...  0.0  0.0  0.0   \n",
       "...    ...  ...  ...  ...  ...  ...  ...  ...  ...  ...  ...  ...  ...  ...   \n",
       "99995  0.0  0.0  0.0  0.0  0.0  0.0  0.0  0.0  0.0  0.0  ...  0.0  0.0  0.0   \n",
       "99996  0.0  0.0  0.0  0.0  0.0  0.0  0.0  0.0  0.0  0.0  ...  0.0  0.0  0.0   \n",
       "99997  0.0  0.0  0.0  0.0  0.0  0.0  0.0  0.0  0.0  0.0  ...  0.0  0.0  0.0   \n",
       "99998  0.0  0.0  0.0  0.0  0.0  0.0  0.0  0.0  0.0  0.0  ...  0.0  0.0  0.0   \n",
       "99999  0.0  0.0  0.0  0.0  0.0  0.0  0.0  0.0  0.0  0.0  ...  0.0  0.0  0.0   \n",
       "\n",
       "         ú    ü    ý    þ    ›  length  lowercase_freq  \n",
       "0      0.0  0.0  0.0  0.0  0.0       9           0.333  \n",
       "1      0.0  0.0  0.0  0.0  0.0      12           0.417  \n",
       "2      0.0  0.0  0.0  0.0  0.0       9           0.778  \n",
       "3      0.0  0.0  0.0  0.0  0.0      23           0.783  \n",
       "4      0.0  0.0  0.0  0.0  0.0       8           0.625  \n",
       "...    ...  ...  ...  ...  ...     ...             ...  \n",
       "99995  0.0  0.0  0.0  0.0  0.0      10           0.700  \n",
       "99996  0.0  0.0  0.0  0.0  0.0      10           0.800  \n",
       "99997  0.0  0.0  0.0  0.0  0.0       9           0.778  \n",
       "99998  0.0  0.0  0.0  0.0  0.0       9           0.667  \n",
       "99999  0.0  0.0  0.0  0.0  0.0      11           0.727  \n",
       "\n",
       "[100000 rows x 101 columns]"
      ]
     },
     "execution_count": 105,
     "metadata": {},
     "output_type": "execute_result"
    }
   ],
   "source": [
    "df2"
   ]
  },
  {
   "cell_type": "code",
   "execution_count": null,
   "id": "26bfbc6f",
   "metadata": {},
   "outputs": [],
   "source": []
  },
  {
   "cell_type": "code",
   "execution_count": 108,
   "id": "22edad2c",
   "metadata": {},
   "outputs": [],
   "source": [
    "y = dataframe[\"strength\"]"
   ]
  },
  {
   "cell_type": "code",
   "execution_count": null,
   "id": "d94aa2b6",
   "metadata": {},
   "outputs": [],
   "source": []
  },
  {
   "cell_type": "markdown",
   "id": "67ba5fdd",
   "metadata": {},
   "source": [
    "#### split data into train & test\n",
    "    train---> To learn the relationship within data, \n",
    "    test-->  To do predictions, and this testing data will be unseen to my model"
   ]
  },
  {
   "cell_type": "code",
   "execution_count": 106,
   "id": "d9e3ce3b",
   "metadata": {},
   "outputs": [],
   "source": [
    "from sklearn.model_selection import train_test_split"
   ]
  },
  {
   "cell_type": "code",
   "execution_count": 109,
   "id": "c61d488e",
   "metadata": {},
   "outputs": [],
   "source": [
    "X_train, X_test, y_train, y_test = train_test_split(df2, y, test_size=0.20)"
   ]
  },
  {
   "cell_type": "code",
   "execution_count": 110,
   "id": "2628799e",
   "metadata": {},
   "outputs": [
    {
     "data": {
      "text/plain": [
       "(80000, 101)"
      ]
     },
     "execution_count": 110,
     "metadata": {},
     "output_type": "execute_result"
    }
   ],
   "source": [
    "X_train.shape"
   ]
  },
  {
   "cell_type": "code",
   "execution_count": 111,
   "id": "28af2dc0",
   "metadata": {},
   "outputs": [
    {
     "data": {
      "text/plain": [
       "(80000,)"
      ]
     },
     "execution_count": 111,
     "metadata": {},
     "output_type": "execute_result"
    }
   ],
   "source": [
    "y_train.shape"
   ]
  },
  {
   "cell_type": "code",
   "execution_count": null,
   "id": "01ae7e8b",
   "metadata": {},
   "outputs": [],
   "source": []
  },
  {
   "cell_type": "code",
   "execution_count": 112,
   "id": "bd206ba8",
   "metadata": {},
   "outputs": [],
   "source": [
    "from sklearn.linear_model import LogisticRegression"
   ]
  },
  {
   "cell_type": "code",
   "execution_count": 113,
   "id": "dfbb75d7",
   "metadata": {},
   "outputs": [],
   "source": [
    "## Apply Multinomial logistic Regression as have data have 3 categories in outcomes\n",
    "\n",
    "clf = LogisticRegression(multi_class=\"multinomial\")"
   ]
  },
  {
   "cell_type": "code",
   "execution_count": 114,
   "id": "ecd8895e",
   "metadata": {},
   "outputs": [
    {
     "data": {
      "text/plain": [
       "LogisticRegression(multi_class='multinomial')"
      ]
     },
     "execution_count": 114,
     "metadata": {},
     "output_type": "execute_result"
    }
   ],
   "source": [
    "clf.fit(X_train , y_train)"
   ]
  },
  {
   "cell_type": "code",
   "execution_count": 116,
   "id": "11583263",
   "metadata": {},
   "outputs": [],
   "source": [
    "y_pred = clf.predict(X_test) ## doing prediction on X-Test data"
   ]
  },
  {
   "cell_type": "code",
   "execution_count": 117,
   "id": "b812b162",
   "metadata": {},
   "outputs": [
    {
     "data": {
      "text/plain": [
       "array([1, 1, 1, ..., 1, 1, 2], dtype=int64)"
      ]
     },
     "execution_count": 117,
     "metadata": {},
     "output_type": "execute_result"
    }
   ],
   "source": [
    "y_pred"
   ]
  },
  {
   "cell_type": "code",
   "execution_count": 118,
   "id": "b101b7aa",
   "metadata": {},
   "outputs": [],
   "source": [
    "from collections import Counter"
   ]
  },
  {
   "cell_type": "code",
   "execution_count": 119,
   "id": "ffa1ad03",
   "metadata": {},
   "outputs": [
    {
     "data": {
      "text/plain": [
       "Counter({1: 16901, 2: 1575, 0: 1524})"
      ]
     },
     "execution_count": 119,
     "metadata": {},
     "output_type": "execute_result"
    }
   ],
   "source": [
    "Counter(y_pred)"
   ]
  },
  {
   "cell_type": "code",
   "execution_count": null,
   "id": "3c175939",
   "metadata": {},
   "outputs": [],
   "source": []
  },
  {
   "cell_type": "code",
   "execution_count": null,
   "id": "a7ad3243",
   "metadata": {},
   "outputs": [],
   "source": []
  },
  {
   "cell_type": "code",
   "execution_count": null,
   "id": "481722b2",
   "metadata": {},
   "outputs": [],
   "source": []
  },
  {
   "cell_type": "code",
   "execution_count": null,
   "id": "5b5fcb98",
   "metadata": {},
   "outputs": [],
   "source": []
  },
  {
   "cell_type": "markdown",
   "id": "988a0adb",
   "metadata": {},
   "source": [
    "### predicting sample data (user-entered input)"
   ]
  },
  {
   "cell_type": "code",
   "execution_count": null,
   "id": "0b829ca1",
   "metadata": {},
   "outputs": [],
   "source": [
    "### as Logistic reg. model'clf' was trained on 101 features [99 from TF-IDF + 2 features from (total_length+lower_case_freq)]\n",
    "## hence we need to convert any input(password) into (1,101) so that the model will accept this as Input .."
   ]
  },
  {
   "cell_type": "code",
   "execution_count": 120,
   "id": "89d9550d",
   "metadata": {},
   "outputs": [],
   "source": [
    "password = \"%@123abcd\""
   ]
  },
  {
   "cell_type": "code",
   "execution_count": 121,
   "id": "1288b397",
   "metadata": {},
   "outputs": [],
   "source": [
    "sample_array = np.array([password])"
   ]
  },
  {
   "cell_type": "code",
   "execution_count": 123,
   "id": "7c55ef93",
   "metadata": {},
   "outputs": [],
   "source": [
    "sample_matrix = vectorizer.transform(sample_array)"
   ]
  },
  {
   "cell_type": "code",
   "execution_count": 124,
   "id": "d0dfeedf",
   "metadata": {},
   "outputs": [
    {
     "data": {
      "text/plain": [
       "array([[0.        , 0.        , 0.        , 0.        , 0.        ,\n",
       "        0.        , 0.        , 0.        , 0.        , 0.        ,\n",
       "        0.        , 0.71897928, 0.        , 0.        , 0.        ,\n",
       "        0.        , 0.        , 0.        , 0.        , 0.        ,\n",
       "        0.        , 0.14344586, 0.1659599 , 0.18587581, 0.        ,\n",
       "        0.        , 0.        , 0.        , 0.        , 0.        ,\n",
       "        0.        , 0.        , 0.        , 0.        , 0.        ,\n",
       "        0.48741481, 0.        , 0.        , 0.        , 0.        ,\n",
       "        0.        , 0.        , 0.13814351, 0.23158091, 0.21637656,\n",
       "        0.20807263, 0.        , 0.        , 0.        , 0.        ,\n",
       "        0.        , 0.        , 0.        , 0.        , 0.        ,\n",
       "        0.        , 0.        , 0.        , 0.        , 0.        ,\n",
       "        0.        , 0.        , 0.        , 0.        , 0.        ,\n",
       "        0.        , 0.        , 0.        , 0.        , 0.        ,\n",
       "        0.        , 0.        , 0.        , 0.        , 0.        ,\n",
       "        0.        , 0.        , 0.        , 0.        , 0.        ,\n",
       "        0.        , 0.        , 0.        , 0.        , 0.        ,\n",
       "        0.        , 0.        , 0.        , 0.        , 0.        ,\n",
       "        0.        , 0.        , 0.        , 0.        , 0.        ,\n",
       "        0.        , 0.        , 0.        , 0.        ]])"
      ]
     },
     "execution_count": 124,
     "metadata": {},
     "output_type": "execute_result"
    }
   ],
   "source": [
    "sample_matrix.toarray()"
   ]
  },
  {
   "cell_type": "code",
   "execution_count": 125,
   "id": "3fa16270",
   "metadata": {},
   "outputs": [
    {
     "data": {
      "text/plain": [
       "(1, 99)"
      ]
     },
     "execution_count": 125,
     "metadata": {},
     "output_type": "execute_result"
    }
   ],
   "source": [
    "sample_matrix.toarray().shape\n",
    "\n",
    "### right now , array dim. is (1,99) so now we need to make it as : (1,101) so that the model will accept it as input..\n",
    "### need to add (length_of_password) & (total_lowercase_chars) in passsword"
   ]
  },
  {
   "cell_type": "code",
   "execution_count": 126,
   "id": "b27c637c",
   "metadata": {},
   "outputs": [
    {
     "data": {
      "text/plain": [
       "'%@123abcd'"
      ]
     },
     "execution_count": 126,
     "metadata": {},
     "output_type": "execute_result"
    }
   ],
   "source": [
    "password"
   ]
  },
  {
   "cell_type": "code",
   "execution_count": 127,
   "id": "b82ff391",
   "metadata": {},
   "outputs": [
    {
     "data": {
      "text/plain": [
       "9"
      ]
     },
     "execution_count": 127,
     "metadata": {},
     "output_type": "execute_result"
    }
   ],
   "source": [
    "len(password)"
   ]
  },
  {
   "cell_type": "code",
   "execution_count": 128,
   "id": "a05e71fc",
   "metadata": {},
   "outputs": [
    {
     "data": {
      "text/plain": [
       "['a', 'b', 'c', 'd']"
      ]
     },
     "execution_count": 128,
     "metadata": {},
     "output_type": "execute_result"
    }
   ],
   "source": [
    "[char for char in password if char.islower()]"
   ]
  },
  {
   "cell_type": "code",
   "execution_count": 130,
   "id": "247284c7",
   "metadata": {},
   "outputs": [
    {
     "data": {
      "text/plain": [
       "0.4444444444444444"
      ]
     },
     "execution_count": 130,
     "metadata": {},
     "output_type": "execute_result"
    }
   ],
   "source": [
    "len([char for char in password if char.islower()])/len(password)"
   ]
  },
  {
   "cell_type": "code",
   "execution_count": 132,
   "id": "a78c391d",
   "metadata": {},
   "outputs": [
    {
     "data": {
      "text/plain": [
       "(101,)"
      ]
     },
     "execution_count": 132,
     "metadata": {},
     "output_type": "execute_result"
    }
   ],
   "source": [
    "np.append(sample_matrix.toarray() , (9,0.444)).shape"
   ]
  },
  {
   "cell_type": "code",
   "execution_count": 133,
   "id": "92fcbf9e",
   "metadata": {},
   "outputs": [
    {
     "data": {
      "text/plain": [
       "array([[0.        , 0.        , 0.        , 0.        , 0.        ,\n",
       "        0.        , 0.        , 0.        , 0.        , 0.        ,\n",
       "        0.        , 0.71897928, 0.        , 0.        , 0.        ,\n",
       "        0.        , 0.        , 0.        , 0.        , 0.        ,\n",
       "        0.        , 0.14344586, 0.1659599 , 0.18587581, 0.        ,\n",
       "        0.        , 0.        , 0.        , 0.        , 0.        ,\n",
       "        0.        , 0.        , 0.        , 0.        , 0.        ,\n",
       "        0.48741481, 0.        , 0.        , 0.        , 0.        ,\n",
       "        0.        , 0.        , 0.13814351, 0.23158091, 0.21637656,\n",
       "        0.20807263, 0.        , 0.        , 0.        , 0.        ,\n",
       "        0.        , 0.        , 0.        , 0.        , 0.        ,\n",
       "        0.        , 0.        , 0.        , 0.        , 0.        ,\n",
       "        0.        , 0.        , 0.        , 0.        , 0.        ,\n",
       "        0.        , 0.        , 0.        , 0.        , 0.        ,\n",
       "        0.        , 0.        , 0.        , 0.        , 0.        ,\n",
       "        0.        , 0.        , 0.        , 0.        , 0.        ,\n",
       "        0.        , 0.        , 0.        , 0.        , 0.        ,\n",
       "        0.        , 0.        , 0.        , 0.        , 0.        ,\n",
       "        0.        , 0.        , 0.        , 0.        , 0.        ,\n",
       "        0.        , 0.        , 0.        , 0.        , 9.        ,\n",
       "        0.444     ]])"
      ]
     },
     "execution_count": 133,
     "metadata": {},
     "output_type": "execute_result"
    }
   ],
   "source": [
    "np.append(sample_matrix.toarray() , (9,0.444)).reshape(1,101)"
   ]
  },
  {
   "cell_type": "code",
   "execution_count": 134,
   "id": "9473c2db",
   "metadata": {},
   "outputs": [
    {
     "data": {
      "text/plain": [
       "(1, 101)"
      ]
     },
     "execution_count": 134,
     "metadata": {},
     "output_type": "execute_result"
    }
   ],
   "source": [
    "np.append(sample_matrix.toarray() , (9,0.444)).reshape(1,101).shape"
   ]
  },
  {
   "cell_type": "code",
   "execution_count": 135,
   "id": "9dea0c55",
   "metadata": {},
   "outputs": [],
   "source": [
    "new_matrix = np.append(sample_matrix.toarray() , (9,0.444)).reshape(1,101)"
   ]
  },
  {
   "cell_type": "code",
   "execution_count": 136,
   "id": "c1a8d1c6",
   "metadata": {},
   "outputs": [
    {
     "data": {
      "text/plain": [
       "array([0], dtype=int64)"
      ]
     },
     "execution_count": 136,
     "metadata": {},
     "output_type": "execute_result"
    }
   ],
   "source": [
    "clf.predict(new_matrix)"
   ]
  },
  {
   "cell_type": "code",
   "execution_count": null,
   "id": "7031f950",
   "metadata": {},
   "outputs": [],
   "source": []
  },
  {
   "cell_type": "code",
   "execution_count": null,
   "id": "1b3d1b12",
   "metadata": {},
   "outputs": [],
   "source": [
    "### Automate it "
   ]
  },
  {
   "cell_type": "code",
   "execution_count": 143,
   "id": "1ac3bc5f",
   "metadata": {},
   "outputs": [],
   "source": [
    "def predict():\n",
    "    password = input(\"Enter a password : \")\n",
    "    sample_array = np.array([password])\n",
    "    sample_matrix = vectorizer.transform(sample_array)\n",
    "    \n",
    "    length_pass = len(password)\n",
    "    length_normalised_lowercase = len([char for char in password if char.islower()])/len(password)\n",
    "    \n",
    "    new_matrix2 = np.append(sample_matrix.toarray() , (length_pass , length_normalised_lowercase)).reshape(1,101)\n",
    "    result = clf.predict(new_matrix2)\n",
    "    \n",
    "    if result == 0 :\n",
    "        return \"Password is weak\"\n",
    "    elif result == 1 :\n",
    "        return \"Password is normal\"\n",
    "    else:\n",
    "        return \"password is strong\""
   ]
  },
  {
   "cell_type": "code",
   "execution_count": 144,
   "id": "5fdbfea2",
   "metadata": {},
   "outputs": [
    {
     "name": "stdout",
     "output_type": "stream",
     "text": [
      "Enter a password : hnasfjafahy\n"
     ]
    },
    {
     "data": {
      "text/plain": [
       "'Password is normal'"
      ]
     },
     "execution_count": 144,
     "metadata": {},
     "output_type": "execute_result"
    }
   ],
   "source": [
    "predict()"
   ]
  },
  {
   "cell_type": "code",
   "execution_count": null,
   "id": "517befe5",
   "metadata": {},
   "outputs": [],
   "source": []
  },
  {
   "cell_type": "code",
   "execution_count": null,
   "id": "57df372d",
   "metadata": {},
   "outputs": [],
   "source": []
  },
  {
   "cell_type": "code",
   "execution_count": null,
   "id": "c8a010b1",
   "metadata": {},
   "outputs": [],
   "source": []
  },
  {
   "cell_type": "markdown",
   "id": "7bd61fcc",
   "metadata": {},
   "source": [
    "### Model evaluation "
   ]
  },
  {
   "cell_type": "code",
   "execution_count": null,
   "id": "9b94165e",
   "metadata": {},
   "outputs": [],
   "source": []
  },
  {
   "cell_type": "code",
   "execution_count": 145,
   "id": "74efef15",
   "metadata": {},
   "outputs": [],
   "source": [
    "from sklearn.metrics import confusion_matrix ,  accuracy_score , classification_report"
   ]
  },
  {
   "cell_type": "code",
   "execution_count": 146,
   "id": "ab204e8f",
   "metadata": {},
   "outputs": [
    {
     "data": {
      "text/plain": [
       "0.79865"
      ]
     },
     "execution_count": 146,
     "metadata": {},
     "output_type": "execute_result"
    }
   ],
   "source": [
    "accuracy_score(y_test , y_pred)"
   ]
  },
  {
   "cell_type": "code",
   "execution_count": 147,
   "id": "9e52b02a",
   "metadata": {},
   "outputs": [
    {
     "data": {
      "text/plain": [
       "array([[  794,  1958,     0],\n",
       "       [  654, 13865,   261],\n",
       "       [   76,  1078,  1314]], dtype=int64)"
      ]
     },
     "execution_count": 147,
     "metadata": {},
     "output_type": "execute_result"
    }
   ],
   "source": [
    "confusion_matrix(y_test , y_pred)"
   ]
  },
  {
   "cell_type": "code",
   "execution_count": null,
   "id": "ecd5d2d1",
   "metadata": {},
   "outputs": [],
   "source": []
  },
  {
   "cell_type": "markdown",
   "id": "baea54bf",
   "metadata": {},
   "source": [
    "### Report of the model"
   ]
  },
  {
   "cell_type": "code",
   "execution_count": 149,
   "id": "c9c79079",
   "metadata": {},
   "outputs": [
    {
     "name": "stdout",
     "output_type": "stream",
     "text": [
      "              precision    recall  f1-score   support\n",
      "\n",
      "           0       0.52      0.29      0.37      2752\n",
      "           1       0.82      0.94      0.88     14780\n",
      "           2       0.83      0.53      0.65      2468\n",
      "\n",
      "    accuracy                           0.80     20000\n",
      "   macro avg       0.73      0.59      0.63     20000\n",
      "weighted avg       0.78      0.80      0.78     20000\n",
      "\n"
     ]
    }
   ],
   "source": [
    "print(classification_report(y_test , y_pred))"
   ]
  },
  {
   "cell_type": "code",
   "execution_count": null,
   "id": "7dd392b3",
   "metadata": {},
   "outputs": [],
   "source": []
  },
  {
   "cell_type": "code",
   "execution_count": null,
   "id": "88d0272b",
   "metadata": {},
   "outputs": [],
   "source": []
  },
  {
   "cell_type": "code",
   "execution_count": null,
   "id": "ee144bad",
   "metadata": {},
   "outputs": [],
   "source": []
  },
  {
   "cell_type": "code",
   "execution_count": null,
   "id": "c3c7f63f",
   "metadata": {},
   "outputs": [],
   "source": []
  }
 ],
 "metadata": {
  "kernelspec": {
   "display_name": "Python 3 (ipykernel)",
   "language": "python",
   "name": "python3"
  },
  "language_info": {
   "codemirror_mode": {
    "name": "ipython",
    "version": 3
   },
   "file_extension": ".py",
   "mimetype": "text/x-python",
   "name": "python",
   "nbconvert_exporter": "python",
   "pygments_lexer": "ipython3",
   "version": "3.9.13"
  }
 },
 "nbformat": 4,
 "nbformat_minor": 5
}
